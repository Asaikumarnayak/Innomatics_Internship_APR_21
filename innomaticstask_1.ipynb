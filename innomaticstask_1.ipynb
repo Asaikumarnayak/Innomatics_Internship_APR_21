{
  "nbformat": 4,
  "nbformat_minor": 0,
  "metadata": {
    "colab": {
      "name": "innomaticstask-1.ipynb",
      "provenance": [],
      "collapsed_sections": []
    },
    "kernelspec": {
      "name": "python3",
      "display_name": "Python 3"
    },
    "language_info": {
      "name": "python"
    }
  },
  "cells": [
    {
      "cell_type": "code",
      "metadata": {
        "id": "_v04k94GAscR"
      },
      "source": [
        "#question 1\n",
        "print \"Hello, World!\""
      ],
      "execution_count": null,
      "outputs": []
    },
    {
      "cell_type": "code",
      "metadata": {
        "id": "thIJ_MWJ9knF"
      },
      "source": [
        "#question 2\n",
        "import math\n",
        "import os\n",
        "import random\n",
        "import re\n",
        "import sys\n",
        "\n",
        "\n",
        "\n",
        "if __name__ == '__main__':\n",
        "    n = int(raw_input().strip())\n",
        "\n",
        "if n%2==0 and (n in range(2,6) or n>20 ):\n",
        "    print \"Not\",\n",
        "\n",
        "print \"Weird\"\n"
      ],
      "execution_count": null,
      "outputs": []
    },
    {
      "cell_type": "code",
      "metadata": {
        "id": "j3BEWnlg-K2t"
      },
      "source": [
        "#question 3\n",
        "if __name__ == '__main__':\n",
        "    a = int(raw_input())\n",
        "    b = int(raw_input())\n",
        "    print a+b\n",
        "    print a-b\n",
        "    print a*b\n"
      ],
      "execution_count": null,
      "outputs": []
    },
    {
      "cell_type": "code",
      "metadata": {
        "id": "PTluFOoQ-U85"
      },
      "source": [
        "#question 4\n",
        "from __future__ import division\n",
        "\n",
        "if __name__ == '__main__':\n",
        "    a = int(raw_input())\n",
        "    b = int(raw_input())\n",
        "\n",
        "print a//b\n",
        "print a/b\n"
      ],
      "execution_count": null,
      "outputs": []
    },
    {
      "cell_type": "code",
      "metadata": {
        "id": "Lc9cocKs-jHv"
      },
      "source": [
        "#question 5\n",
        "if __name__ == '__main__':\n",
        "    n = int(raw_input())\n",
        "    for i in range(n):\n",
        "        print(i*i)\n"
      ],
      "execution_count": null,
      "outputs": []
    },
    {
      "cell_type": "code",
      "metadata": {
        "id": "EfbrY1kABdns"
      },
      "source": [
        "#question 6\n",
        "def is_leap(year):\n",
        "    leap = False\n",
        "    \n",
        "    # Write your logic here\n",
        "    if year%400==0 :\n",
        "            leap = True\n",
        "    elif year%4 == 0 and year%100 != 0:\n",
        "        leap = True\n",
        "    \n",
        "    return leap\n",
        "\n",
        "year = int(raw_input())"
      ],
      "execution_count": null,
      "outputs": []
    },
    {
      "cell_type": "code",
      "metadata": {
        "id": "jek5ChGpBhpM"
      },
      "source": [
        "#question 7\n",
        "from __future__ import print_function\n",
        "\n",
        "if __name__ == '__main__':\n",
        "    n = int(raw_input())\n",
        "\n",
        "\n",
        "def fun(n):\n",
        "    for i in range(1,n+1):\n",
        "        print(i,end=\"\")\n",
        "fun(n)        \n"
      ],
      "execution_count": null,
      "outputs": []
    }
  ]
}