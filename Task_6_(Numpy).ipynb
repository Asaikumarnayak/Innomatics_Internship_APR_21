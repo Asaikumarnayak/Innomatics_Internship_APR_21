{
  "nbformat": 4,
  "nbformat_minor": 0,
  "metadata": {
    "colab": {
      "name": "Task - 6 (Numpy).ipynb",
      "provenance": [],
      "collapsed_sections": []
    },
    "kernelspec": {
      "name": "python3",
      "display_name": "Python 3"
    },
    "language_info": {
      "name": "python"
    }
  },
  "cells": [
    {
      "cell_type": "code",
      "metadata": {
        "id": "RkjRE6myh6Rb"
      },
      "source": [
        "#question 1 arrays\n",
        "def arrays(arr):\n",
        "    # complete this function\n",
        "    # use numpy.array\n",
        "    b=numpy.array(arr,float)\n",
        "    return b[::-1]\n",
        "\n",
        "arr = input().strip().split(' ')\n",
        "result = arrays(arr)\n",
        "print(result)"
      ],
      "execution_count": null,
      "outputs": []
    },
    {
      "cell_type": "code",
      "metadata": {
        "id": "-2cLwcutiNc2"
      },
      "source": [
        "#question 2 shapes and reshape\n",
        "import numpy as np\n",
        "def shapes(arr):\n",
        "    l=np.array(map(int,arr))\n",
        "   # a=np.array(arr)\n",
        "    b=l.shape=(3,3)\n",
        "    #c=l.append(int(a))\n",
        "    return l\n",
        "\n",
        "arr=raw_input().strip().split()\n",
        "result=shapes(arr)\n",
        "print(result)\n"
      ],
      "execution_count": null,
      "outputs": []
    },
    {
      "cell_type": "code",
      "metadata": {
        "id": "CpHJR6iRid5Y"
      },
      "source": [
        "#question 3 transpose and flatten\n",
        "import numpy as np\n",
        "n,m=map(int,input().strip().split())\n",
        "a = np.array([input().strip().split() for i in range(n)], int)#array([],type)\n",
        "#a=np.array([[int(x) for x in input()] for i in range(n)])\n",
        "print(a.transpose())\n",
        "print(a.flatten())"
      ],
      "execution_count": null,
      "outputs": []
    },
    {
      "cell_type": "code",
      "metadata": {
        "id": "dbX1VSVOipOm"
      },
      "source": [
        "#question 4 concatenate\n",
        "import numpy as np\n",
        "list1=[]\n",
        "list2=[]\n",
        "n,m,p=map(int,input().split())\n",
        "for i in range(n):\n",
        "    a=list(map(int,input().split()))\n",
        "    list1.append(a)\n",
        "for i in range(m):\n",
        "    b=list(map(int,input().split()))\n",
        "    list2.append(b)\n",
        "arr1=np.array(list1)\n",
        "arr2=np.array(list2)\n",
        "print(np.concatenate((arr1,arr2),axis = 0))            \n"
      ],
      "execution_count": null,
      "outputs": []
    },
    {
      "cell_type": "code",
      "metadata": {
        "id": "aOlEq2tbjBsG"
      },
      "source": [
        "#question 5 zeros and ones\n",
        "import numpy as np\n",
        "#3 3 3 rows column matrix\n",
        "n=list(map(int,input().strip().split()))\n",
        "print(np.zeros(n,dtype=np.int))\n",
        "print(np.ones(n,dtype=np.int))\n",
        "\n",
        "\n"
      ],
      "execution_count": null,
      "outputs": []
    },
    {
      "cell_type": "code",
      "metadata": {
        "id": "eD9foULMjLSQ"
      },
      "source": [
        "#question 6 eye and identity\n",
        "import numpy as np\n",
        "np.set_printoptions(legacy = '1.13')\n",
        "\n",
        "n, m = [int(x) for x in input().strip().split()]\n",
        "\n",
        "print(np.eye(n, m))\n"
      ],
      "execution_count": null,
      "outputs": []
    },
    {
      "cell_type": "code",
      "metadata": {
        "id": "vbsQXrR_jYnG"
      },
      "source": [
        "#question 7 array mathematics\n",
        "import numpy\n",
        "\n",
        "n, m = [int(x) for x in input().strip().split()]\n",
        "\n",
        "a = numpy.array([[int(x) for x in input().strip().split()] for _ in range(n)])\n",
        "b = numpy.array([[int(x) for x in input().strip().split()] for _ in range(n)])\n",
        "\n",
        "print(numpy.add(a,b))\n",
        "print(numpy.subtract(a,b))\n",
        "print(a * b)\n",
        "print(a//b)\n",
        "print(numpy.mod(a,b))\n",
        "print(numpy.power(a,b))"
      ],
      "execution_count": null,
      "outputs": []
    },
    {
      "cell_type": "code",
      "metadata": {
        "id": "tGgG9GO1jvCb"
      },
      "source": [
        "#question 8 floor ceil and rint\n",
        "import numpy as np\n",
        "#n=list(input().strip().split())\n",
        "np.set_printoptions(sign=' ')\n",
        "a=np.array(input().split(),float)\n",
        "print(np.floor(a))\n",
        "print(np.ceil(a))\n",
        "print(np.rint(a))\n"
      ],
      "execution_count": null,
      "outputs": []
    },
    {
      "cell_type": "code",
      "metadata": {
        "id": "Yo3rrNvhj_zJ"
      },
      "source": [
        "#question 9 sum and prod\n",
        "import numpy as np\n",
        "m,n=map(int,input().strip().split())\n",
        "a = np.array([input().split() for _ in range(n)],int)\n",
        "#a=np.array((input().strip() for i in range(n)),int)\n",
        "b=np.sum(a,axis=0)\n",
        "print(np.prod(b,axis=None))\n",
        "\n",
        "\n"
      ],
      "execution_count": null,
      "outputs": []
    },
    {
      "cell_type": "code",
      "metadata": {
        "id": "jF2kpHtKkNid"
      },
      "source": [
        "#question 10 min and max\n",
        "import numpy as np\n",
        "n,m=map(int,input().strip().split())\n",
        "a=np.array([input().strip().split() for x in range(n)],int)\n",
        "b=np.min(a,axis=1)\n",
        "print(np.max(b))\n",
        "\n",
        "\n"
      ],
      "execution_count": null,
      "outputs": []
    },
    {
      "cell_type": "code",
      "metadata": {
        "id": "252_F5rhkVH9"
      },
      "source": [
        "#question 11 mean,var and std\n",
        "import numpy as np\n",
        "n,m=[int(x) for x in input().strip().split()]\n",
        "a=np.array([[int(x) for x in input().strip().split()] for i in range(n)])\n",
        "#b=np.array([[int(x) for x in input().strip().split()] for i in range(n)])\n",
        "#c=np.array(a,b)\n",
        "print(np.mean(a,axis=1))\n",
        "print(np.var(a,axis=0))\n",
        "print(np.round(np.std(a),11))#it wants 11 decimals\n",
        "\n",
        "\n",
        "\n"
      ],
      "execution_count": null,
      "outputs": []
    },
    {
      "cell_type": "code",
      "metadata": {
        "id": "RcKe1qb9kgsd"
      },
      "source": [
        "#question 12 dot and cross\n",
        "import numpy as np\n",
        "n=int(input())\n",
        "a=np.array([input().strip().split() for i in range(n)],int)\n",
        "b=np.array([input().strip().split() for i in range(n)],int)\n",
        "print(np.dot(a,b))\n",
        "\n",
        "\n"
      ],
      "execution_count": null,
      "outputs": []
    },
    {
      "cell_type": "code",
      "metadata": {
        "id": "frpqXny8kvho"
      },
      "source": [
        "#question 13 inner and outer\n",
        "import numpy as np\n",
        "#a=map(int,input().strip().split())\n",
        "#b=map(int,input().strip().split())\n",
        "c=np.array(input().split(),int)\n",
        "d=np.array(input().split(),int)\n",
        "print(np.inner(c,d))\n",
        "print(np.outer(c,d))"
      ],
      "execution_count": null,
      "outputs": []
    },
    {
      "cell_type": "code",
      "metadata": {
        "id": "_JqDyGRek2Na"
      },
      "source": [
        "#question 14 polynomials\n",
        "import numpy as np\n",
        "p=list(map(float,input().split()))\n",
        "x=int(input())\n",
        "print(np.polyval(p,x))\n",
        "\n"
      ],
      "execution_count": null,
      "outputs": []
    },
    {
      "cell_type": "code",
      "metadata": {
        "id": "yfiaG2VhlwDQ"
      },
      "source": [
        "#question 15 linear algebra\n",
        "import numpy as np\n",
        "n=int(input())\n",
        "a=np.array([input().split() for i in range(n)],float)\n",
        "print(round(np.linalg.det(a),2))\n",
        "#print(np.linalg.det(a))\n",
        "\n"
      ],
      "execution_count": null,
      "outputs": []
    }
  ]
}