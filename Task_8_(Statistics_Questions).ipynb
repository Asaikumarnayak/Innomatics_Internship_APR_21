{
  "nbformat": 4,
  "nbformat_minor": 0,
  "metadata": {
    "colab": {
      "name": "Task - 8 (Statistics Questions).ipynb",
      "provenance": [],
      "collapsed_sections": []
    },
    "kernelspec": {
      "name": "python3",
      "display_name": "Python 3"
    },
    "language_info": {
      "name": "python"
    }
  },
  "cells": [
    {
      "cell_type": "code",
      "metadata": {
        "id": "fk0yDAMHuoGD"
      },
      "source": [
        "#question 1 binomial-distribution-1\n",
        "\n",
        "import math\n",
        "\n",
        "\n",
        "a =1.09/1\n",
        "p=a/(1+a)\n",
        "result1 = 0     #p(x>=3)=p(x=3)+p(x=4)+p(x=5)+p(x=6)\n",
        "for i in range(3, 7):\n",
        "    result1 += ((math.factorial(6))/(math.factorial(i))/(math.factorial(6-i))) * p**i * (1-p)**(6-i)#ncr=(n!/r!*(n-r)!)*p**r*(1-p)**(n-r)\n",
        "    \n",
        "print(round(result1, 3))\n",
        "\n"
      ],
      "execution_count": null,
      "outputs": []
    },
    {
      "cell_type": "code",
      "metadata": {
        "id": "A1sE9VBsGjMg"
      },
      "source": [
        "#question 2  binomial-distribution-2\n",
        "# Enter your code here. Read input from STDIN. Print output to STDOUT\n",
        "\n",
        "import math\n",
        "\n",
        "\n",
        "p = 0.12\n",
        "result1 = 0\n",
        "for i in range(0, 3):#p(x<=2)\n",
        "    result1 += ((math.factorial(10))/(math.factorial(i))/(math.factorial(10-i))) * p**i * (1-p)**(10-i)#ncr=(n!/r!*(n-r)!)*p**r*(1-p)**(n-r)\n",
        "    if i == 1:#p(x>=2)=1-p(x<=2)\n",
        "        result2 = 1 - result1\n",
        "\n",
        "print(round(result1, 3))\n",
        "print(round(result2, 3))\n"
      ],
      "execution_count": null,
      "outputs": []
    },
    {
      "cell_type": "code",
      "metadata": {
        "id": "-HQqT3P9GchW"
      },
      "source": [
        "#question 3  normal distribution -1\n",
        "# Enter your code here. Read input from STDIN. Print output to STDOUT\n",
        "import math\n",
        "\n",
        "mean = 20\n",
        "standarddeviation = 2\n",
        "def cdf(x, mean, std):\n",
        "    return 1/2*(1+math.erf((x-mean) / std / 2**(1/2)))\n",
        "\n",
        "\n",
        "\n",
        "\n",
        "# Less than 19.5 hours   p(x<1.95)\n",
        "print(round(cdf(19.5, mean, standarddeviation), 3))\n",
        "# Between 20 and 22 hours   p(20<x<22)\n",
        "print(round(cdf(22, mean, standarddeviation) - cdf(20, mean, standarddeviation), 3))\n",
        "\n"
      ],
      "execution_count": null,
      "outputs": []
    },
    {
      "cell_type": "code",
      "metadata": {
        "id": "gamIBfg9G6M1"
      },
      "source": [
        "#question 4  normal distribution -2\n",
        "# Enter your code here. Read input from STDIN. Print output to STDOUT\n",
        "import math\n",
        "\n",
        "mean = 70\n",
        "std = 10\n",
        "def cdf(x, mean, std):\n",
        "    return 1/2*(1+math.erf((x-mean) / std / 2**(1/2)))\n",
        "\n",
        "\n",
        "#scored higher than 80 p(x>80)=1-p(x<=80)\n",
        "print(round((1 - cdf(80, mean, std))*100, 2))\n",
        "#passed the test having grade >=60 p(x>=60)=1-p(x<60)\n",
        "#p(x<60)\n",
        "print(round((1 - cdf(60, mean, std))*100, 2))\n",
        "#failed the test grade<60  p(x<60)\n",
        "print(round(cdf(60, mean, std)*100, 2))\n"
      ],
      "execution_count": null,
      "outputs": []
    },
    {
      "cell_type": "code",
      "metadata": {
        "id": "msiauCNAHP0p"
      },
      "source": [
        "#question 5 the-central-limit-theorem-1\n",
        "# Enter your code here. Read input from STDIN. Print output to STDOUT\n",
        "mean=205\n",
        "std=15\n",
        "n=49\n",
        "N=9800\n",
        "import math\n",
        "def cdf(x, mean, std):\n",
        "    return 1/2*(1+math.erf((x-mean)/std/2**(1/2)))\n",
        "# in central limit theorem the std of a sample dist=sigma/n**0.5\n",
        "sample_std=std*n**(0.5)\n",
        "sample_mean=n*mean\n",
        "print(round(cdf(N,sample_mean,sample_std),4))\n"
      ],
      "execution_count": null,
      "outputs": []
    },
    {
      "cell_type": "code",
      "metadata": {
        "id": "VRpU3MKFHVoU"
      },
      "source": [
        "#question 6 the-central-limit-theorem-2\n",
        "# Enter your code here. Read input from STDIN. Print output to STDOUT\n",
        "mean=2.4\n",
        "std=2.0\n",
        "tickets=250\n",
        "target=100\n",
        "import math\n",
        "def cdf(x, mean, std):\n",
        "    return 1/2*(1+math.erf((x-mean)/std/2**(1/2)))\n",
        "result=cdf(tickets,target*mean,math.sqrt(target)*std)\n",
        "print(round(result,4))"
      ],
      "execution_count": null,
      "outputs": []
    },
    {
      "cell_type": "code",
      "metadata": {
        "id": "gW2oGIj9JjuZ"
      },
      "source": [
        "#question 7  the-central-limit-theorem-3\n",
        "# Enter your code here. Read input from STDIN. Print output to STDOUT\n",
        "mean=500\n",
        "std=80\n",
        "n=100\n",
        "z=1.96\n",
        "#std of a sample ditribution is std/n**0.5\n",
        "sample_std=std / n**(1/2)\n",
        "#mean of a sample distributoin is approx equal to population mean\n",
        "sample_mean=mean\n",
        "#Compute the interval that covers the middle 95%\n",
        "#mean+-z*error-->error is sample_std\n",
        "print(round(sample_mean-sample_std*z,2))\n",
        "print(round(sample_mean+sample_std*z,2))\n",
        "\n",
        "\n"
      ],
      "execution_count": null,
      "outputs": []
    },
    {
      "cell_type": "code",
      "metadata": {
        "id": "rIy-XRvNJpGk"
      },
      "source": [
        "#question 8  pearson-correlation-coefficient\n",
        "\n",
        "# Enter your code here. Read input from STDIN. Print output to STDOUT\n",
        "\n",
        "n=int(input())\n",
        "X=list(map(float,input().strip().split()))\n",
        "Y=list(map(float,input().strip().split()))\n",
        "#mean=sum of observation by no.of observation\n",
        "mu_x = sum(X) / n\n",
        "mu_y = sum(Y) / n\n",
        "#variance =(1/n)*sum(xi-mu)**2\n",
        "#std=variance**0.5\n",
        "stdv_x = (sum([(i - mu_x)**2 for i in X]) / n)**0.5\n",
        "stdv_y = (sum([(i - mu_y)**2 for i in Y]) / n)**0.5\n",
        "#covariance=sum((xi-mu)*(yi-mu))\n",
        "covariance= sum([(X[i] - mu_x) * (Y[i] -mu_y) for i in range(n)])\n",
        "#correlationcoefficient=covariance/(n*stdx*stdy)\n",
        "result=covariance / (n * stdv_x * stdv_y)\n",
        "print(round(result,3))"
      ],
      "execution_count": null,
      "outputs": []
    },
    {
      "cell_type": "code",
      "metadata": {
        "id": "ECIVFo-tJ02U"
      },
      "source": [
        "#question 9 least-square-regression-line\n",
        "# Enter your code here. Read input from STDIN. Print output to STDOUT\n",
        "def pearson(n, X, Y):\n",
        "    mx=sum(X)/n                 \n",
        "    my=sum(Y)/n\n",
        "\n",
        "    sx= 0\n",
        "    sy= 0\n",
        "    p= 0\n",
        "\n",
        "    for x, y in zip(X, Y):\n",
        "        sx+=(x-mx)**2\n",
        "        sy+=(y-my)**2         \n",
        "        p+=(x-mx)*(y-my)    \n",
        "\n",
        "    std_x=(sx/n)**0.5\n",
        "    std_y=(sy/n)**0.5\n",
        "\n",
        "    p=p/(n*std_x*std_y)\n",
        "\n",
        "    b=p*std_y/std_x                 # Y = a + b X\n",
        "    a=my-b*mx\n",
        "\n",
        "    return p, a, b\n",
        "\n",
        "\n",
        "X, Y = [0] * 5, [0] * 5\n",
        "for i in range(5):\n",
        "    X[i], Y[i] = map(int, input().split())\n",
        "\n",
        "c,a,b=pearson(5, X, Y)\n",
        "\n",
        "print(round(a + b * 80,3))\n"
      ],
      "execution_count": null,
      "outputs": []
    },
    {
      "cell_type": "code",
      "metadata": {
        "id": "HAXjTTQEJ4zl"
      },
      "source": [
        "#question 10 multiple-linear-regression\n",
        "# Enter your code here. Read input from STDIN. Print output to STDOUT\n",
        "from sklearn.linear_model import LinearRegression\n",
        "import numpy as np\n",
        "m, n = map(int, input().split())\n",
        "\n",
        "X = []\n",
        "Y = []\n",
        "for i in range(n):\n",
        "    a = np.array(input().split(), np.float)\n",
        "    X.append(a[:-1])\n",
        "    Y.append(a[-1])\n",
        "lr = LinearRegression()\n",
        "lr.fit(X, Y)\n",
        "a = lr.intercept_\n",
        "b = lr.coef_\n",
        "\n",
        "for i in range(int(input())):\n",
        "    c = np.array(input().split(), np.float)\n",
        "    y = a + np.sum(c * b)\n",
        "    print(np.ceil(y * 100) / 100)"
      ],
      "execution_count": null,
      "outputs": []
    }
  ]
}