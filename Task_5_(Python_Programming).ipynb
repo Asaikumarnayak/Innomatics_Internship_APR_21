{
  "nbformat": 4,
  "nbformat_minor": 0,
  "metadata": {
    "colab": {
      "name": "Task - 5 (Python Programming).ipynb",
      "provenance": [],
      "collapsed_sections": []
    },
    "kernelspec": {
      "name": "python3",
      "display_name": "Python 3"
    },
    "language_info": {
      "name": "python"
    }
  },
  "cells": [
    {
      "cell_type": "code",
      "metadata": {
        "id": "fWV7_91hhsiH"
      },
      "source": [
        "#question 1 detect floating point number\n",
        "import re\n",
        "\n",
        "if __name__ == \"__main__\":\n",
        "    n = int(input().strip())\n",
        "    pattern = '^[+-]?[0-9]*\\.[0-9]+$'\n",
        "    \n",
        "    for _ in range(n):\n",
        "        print(bool(re.match(pattern, input())))\n"
      ],
      "execution_count": null,
      "outputs": []
    },
    {
      "cell_type": "code",
      "metadata": {
        "id": "ejhp7cB8iDpF"
      },
      "source": [
        "#question 2 re.split() \n",
        "regex_pattern = r\"[.,]+\"\t# Do not delete 'r'.\n",
        "import re\n",
        "print(\"\\n\".join(re.split(regex_pattern, input())))"
      ],
      "execution_count": null,
      "outputs": []
    },
    {
      "cell_type": "code",
      "metadata": {
        "id": "wERooKUGiVFH"
      },
      "source": [
        "#question 3 Group(),Groups()&Groupdict()\n",
        "\n",
        "import re\n",
        "\n",
        "if __name__ == \"__main__\":\n",
        "    string = input()\n",
        "    \n",
        "    match = re.search(r'([a-zA-Z0-9])\\1+', string)\n",
        "    \n",
        "    print(match.group(1) if match else -1)"
      ],
      "execution_count": null,
      "outputs": []
    },
    {
      "cell_type": "code",
      "metadata": {
        "id": "QYQAGL5hi1BT"
      },
      "source": [
        "#question 4 re.findall()&re.finditer()\n",
        "import re\n",
        "\n",
        "c = 'QWRTYPSDFGHJKLZXCVBNMqwrtypsdfghjklzxcvbnm'\n",
        "v = 'AEIOUaeiou'\n",
        "\n",
        "if __name__ == \"__main__\":\n",
        "    string = input().strip()\n",
        "    \n",
        "    m = re.findall(r\"(?<=[%s])([%s]{2,})[%s]\" % (c, v, c), string)\n",
        "    \n",
        "    print(\"\\n\".join(m or ['-1']))\n",
        "    \n"
      ],
      "execution_count": null,
      "outputs": []
    },
    {
      "cell_type": "code",
      "metadata": {
        "id": "XZ0m1L-QjT34"
      },
      "source": [
        "#question 5 re.start()&re.end()\n",
        "S = input()\n",
        "k = input()\n",
        "import re\n",
        "pattern = re.compile(k)\n",
        "r = pattern.search(S)\n",
        "if not r: print (\"(-1, -1)\")\n",
        "while r:\n",
        "    print (\"({0}, {1})\".format(r.start(), r.end() - 1))\n",
        "    r = pattern.search(S,r.start() + 1)\n"
      ],
      "execution_count": null,
      "outputs": []
    },
    {
      "cell_type": "code",
      "metadata": {
        "id": "T_ObTNxkjxbU"
      },
      "source": [
        "#question 6 regex substitution\n",
        "# Enter your code here. Read input from STDIN. Print output to STDOUT\n",
        "import re\n",
        "\n",
        "def change(match):\n",
        "    symbol = match.group(0)\n",
        "    \n",
        "    if symbol == \"&&\":\n",
        "        return \"and\"\n",
        "    elif symbol == \"||\":\n",
        "        return \"or\"\n",
        "    \n",
        "n = int(input().strip())\n",
        "for _ in range(n):\n",
        "    print(re.sub(r'(?<= )(&&|\\|\\|)(?= )', change, input()))\n"
      ],
      "execution_count": null,
      "outputs": []
    },
    {
      "cell_type": "code",
      "metadata": {
        "id": "ZlG9Y806j9HS"
      },
      "source": [
        "#question 7 validating roman number\n",
        "regex_pattern = r\"^M{0,3}(CM|CD|D?C{0,3})(XC|XL|L?X{0,3})(IX|IV|V?I{0,3})$\"\t# Do not delete 'r'\n",
        "\n",
        "import re\n",
        "print(str(bool(re.match(regex_pattern, input()))))"
      ],
      "execution_count": null,
      "outputs": []
    },
    {
      "cell_type": "code",
      "metadata": {
        "id": "tvqgoiL6kLfR"
      },
      "source": [
        "#question 8 validating phone number\n",
        "   \n",
        "import re\n",
        "\n",
        "n = int(input().strip())\n",
        "\n",
        "for i in range(n):\n",
        "    tel = input().strip()\n",
        "    pattern = '^[789][0-9]{9}$'\n",
        "    print(\"{}\".format(\"YES\" if bool(re.match(pattern, tel)) else \"NO\"))"
      ],
      "execution_count": null,
      "outputs": []
    },
    {
      "cell_type": "code",
      "metadata": {
        "id": "XH9PjVTIku--"
      },
      "source": [
        "#question 9 validating and parsing email address\n",
        "import re\n",
        "\n",
        "n = int(input().strip())\n",
        "for i in range(n):\n",
        "    name, email = input().strip().split()\n",
        "    \n",
        "    if re.match(r'<[A-Za-z](\\w|-|\\.|_)+@[A-Za-z]+\\.[A-Za-z]{1,3}>', email):\n",
        "        print(\"{} {}\".format(name, email))\n"
      ],
      "execution_count": null,
      "outputs": []
    },
    {
      "cell_type": "code",
      "metadata": {
        "id": "-7UzgjCNk0i3"
      },
      "source": [
        "#question 10 hex color code\n",
        "import re\n",
        "\n",
        "n = int(input().strip())\n",
        "inside = False\n",
        "for i in range(n):\n",
        "    line = input()\n",
        "    \n",
        "    for el in line.split(' '):\n",
        "        if el == \"{\":\n",
        "            inside = True\n",
        "            continue\n",
        "        elif el == \"}\":\n",
        "            inside = False\n",
        "            continue\n",
        "        elif inside:\n",
        "            found = re.search(r'\\#[0-9a-fA-F]{3,6}', el)\n",
        "            if found:\n",
        "                print(found.group(0))"
      ],
      "execution_count": null,
      "outputs": []
    },
    {
      "cell_type": "code",
      "metadata": {
        "id": "WCWwDbdllMNv"
      },
      "source": [
        "#question 11 html parser -part 1\n",
        "import re\n",
        "from html.parser import HTMLParser\n",
        "# create a subclass and override the handler methods\n",
        "class MyHTMLParser(HTMLParser):\n",
        "    def handle_starttag(self, tag, attrs):\n",
        "        print(\"Start\" .ljust(6)+ \":\", tag)\n",
        "        for at in attrs:\n",
        "            print(\"-> {} > {}\".format(at[0], at[1]))\n",
        "    def handle_endtag(self, tag):\n",
        "        print(\"End\".ljust(6) + \":\", tag)\n",
        "    def handle_startendtag(self, tag, attrs):\n",
        "        print(\"Empty\".ljust(6) + \":\", tag)\n",
        "        for at in attrs:\n",
        "            print(\"-> {} > {}\".format(at[0], at[1]))\n",
        "\n",
        "if __name__ == \"__main__\":\n",
        "    parser = MyHTMLParser()\n",
        "    n = int(input().strip())\n",
        "    for i in range(n):\n",
        "        line = input()\n",
        "        parser.feed(line)\n"
      ],
      "execution_count": null,
      "outputs": []
    },
    {
      "cell_type": "code",
      "metadata": {
        "id": "MZ5P1TuzlZCI"
      },
      "source": [
        "#question 12 html parser -part 2\n",
        "from html.parser import HTMLParser\n",
        "\n",
        "class MyHTMLParser(HTMLParser):\n",
        "     def handle_comment(self, data):#to get the comment\n",
        "        if data.count('\\n') > 0:\n",
        "            print(\">>> Multi-line Comment\")\n",
        "        else:\n",
        "             print(\">>> Single-line Comment\")\n",
        "        print(data)\n",
        "     def handle_data(self, data):#to print the data\n",
        "        if len(data) > 1:\n",
        "            print(\">>> Data\")\n",
        "            print(data)\n",
        "\n",
        "  \n",
        "html = \"\"       \n",
        "for i in range(int(input())):\n",
        "    html += input().rstrip()\n",
        "    html += '\\n'\n",
        "    \n",
        "parser = MyHTMLParser()\n",
        "parser.feed(html)\n",
        "parser.close()\n"
      ],
      "execution_count": null,
      "outputs": []
    },
    {
      "cell_type": "code",
      "metadata": {
        "id": "tmOnAhFGl4bp"
      },
      "source": [
        "#question 13 detect html tags,attributes and attribute values\n",
        "from html.parser import HTMLParser\n",
        "\n",
        "class MyHTMLParser(HTMLParser):\n",
        "     def handle_comment(self, data):#to get the comment\n",
        "        if data.count('\\n') > 0:\n",
        "            print(\">>> Multi-line Comment\")\n",
        "        else:\n",
        "             print(\">>> Single-line Comment\")\n",
        "        print(data)\n",
        "     def handle_data(self, data):#to print the data\n",
        "        if len(data) > 1:\n",
        "            print(\">>> Data\")\n",
        "            print(data)\n",
        "\n",
        "  \n",
        "html = \"\"       \n",
        "for i in range(int(input())):\n",
        "    html += input().rstrip()\n",
        "    html += '\\n'\n",
        "    \n",
        "parser = MyHTMLParser()\n",
        "parser.feed(html)\n",
        "parser.close()\n"
      ],
      "execution_count": null,
      "outputs": []
    },
    {
      "cell_type": "code",
      "metadata": {
        "id": "zK_Ovs-HmK9N"
      },
      "source": [
        "#question 14 validating uid\n",
        "# Enter your code here. Read input from STDIN. Print output to STDOUT\n",
        "import re\n",
        "\n",
        "if __name__ == \"__main__\":\n",
        "    n = int(input().strip())\n",
        "    \n",
        "    for i in range(n):\n",
        "        uid = \"\".join(sorted(input()))\n",
        "        if (len(uid) == 10 and\n",
        "            re.match(r'', uid) and \n",
        "            re.search(r'[A-Z]{2}', uid) and\n",
        "            re.search(r'\\d\\d\\d', uid) and\n",
        "            not re.search(r'[^a-zA-Z0-9]', uid) and\n",
        "            not re.search(r'(.)\\1', uid)):\n",
        "            print(\"Valid\")\n",
        "        else:\n",
        "            print(\"Invalid\")\n"
      ],
      "execution_count": null,
      "outputs": []
    },
    {
      "cell_type": "code",
      "metadata": {
        "id": "IV21ZPVLmjTE"
      },
      "source": [
        "#question 15 validating credit card numbers\n",
        "# Enter your code here. Read input from STDIN. Print output to STDOUT\n",
        "import re\n",
        "\n",
        "if __name__ == \"__main__\":\n",
        "    n= int(input().strip())\n",
        "    \n",
        "    for _ in range(n):\n",
        "        num = \"\".join(input())\n",
        "        if (re.match(r'^[456]', num) and\n",
        "            (re.match(r'([\\d]{4}-){3}[\\d]{4}$', num) or\n",
        "             re.match(r'[\\d]{16}', num)) and\n",
        "            not re.search(r'(\\d)\\1{3,}', num.replace(\"-\", \"\"))):\n",
        "            print(\"Valid\")\n",
        "        else:\n",
        "            print(\"Invalid\")\n"
      ],
      "execution_count": null,
      "outputs": []
    },
    {
      "cell_type": "code",
      "metadata": {
        "id": "WhVf37yAmyYF"
      },
      "source": [
        "#question 16 validating postal codes\n",
        "regex_integer_in_range = r\"^[1-9][\\d]{5}$\"\t# Do not delete 'r'.\n",
        "regex_alternating_repetitive_digit_pair = r\"(\\d)(?=\\d\\1)\"\t# Do not delete 'r'.\n"
      ],
      "execution_count": null,
      "outputs": []
    },
    {
      "cell_type": "code",
      "metadata": {
        "id": "OMZLy1Cmm9-D"
      },
      "source": [
        "#question 17 matrix script\n",
        "\n",
        "import math\n",
        "import os\n",
        "import random\n",
        "import re\n",
        "import sys\n",
        "\n",
        "\n",
        "\n",
        "\n",
        "first_multiple_input = input().rstrip().split()\n",
        "\n",
        "n = int(first_multiple_input[0])\n",
        "\n",
        "m = int(first_multiple_input[1])\n",
        "\n",
        "lst = []\n",
        "\n",
        "for _ in range(n):\n",
        "    matrix_item = input()\n",
        "    lst.append(matrix_item)\n",
        "    complete = \"\"\n",
        "for el in zip(*lst):\n",
        "    complete += \"\".join(el)\n",
        "print(re.sub(r'(?<=\\w)([^\\w]+)(?=\\w)', \" \", complete))"
      ],
      "execution_count": null,
      "outputs": []
    }
  ]
}