{
  "nbformat": 4,
  "nbformat_minor": 0,
  "metadata": {
    "colab": {
      "name": "Task - 4 (Python Programming).ipynb",
      "provenance": [],
      "collapsed_sections": []
    },
    "kernelspec": {
      "name": "python3",
      "display_name": "Python 3"
    },
    "language_info": {
      "name": "python"
    }
  },
  "cells": [
    {
      "cell_type": "code",
      "metadata": {
        "id": "MkCqWIslMBfG"
      },
      "source": [
        "#questoin 1 swapcase\n",
        "def swap_case(s):\n",
        "    return s.swapcase()\n",
        "    \n",
        "\n",
        "if __name__ == '__main__':\n",
        "    s = input()\n",
        "    result = swap_case(s)\n",
        "    print(result)"
      ],
      "execution_count": null,
      "outputs": []
    },
    {
      "cell_type": "code",
      "metadata": {
        "id": "vGVvQaaBEgGP"
      },
      "source": [
        "#question 2 string split and join\n",
        "def split_and_join(line):\n",
        "    # write your code here\n",
        "    a=line.split()# a is converted to a list of strings. \n",
        "    a=\"-\".join(a)\n",
        "    return a\n",
        "if __name__ == '__main__':\n",
        "    line = input()\n",
        "    result = split_and_join(line)\n",
        "    print(result)"
      ],
      "execution_count": null,
      "outputs": []
    },
    {
      "cell_type": "code",
      "metadata": {
        "id": "e1SL_CeJEwMe"
      },
      "source": [
        "#question 3 what is your name\n",
        "def print_full_name(first, last):\n",
        "    # Write your code here\n",
        "    print(\"Hello \"+first_name+\" \" +last_name+\"! You just delved into python.\")\n",
        "if __name__ == '__main__':\n",
        "    first_name = input()\n",
        "    last_name = input()\n",
        "    print_full_name(first_name, last_name)"
      ],
      "execution_count": null,
      "outputs": []
    },
    {
      "cell_type": "code",
      "metadata": {
        "id": "mLxJ_XUuE96p"
      },
      "source": [
        "#question 4 mutations\n",
        "def mutate_string(string, position, character):\n",
        "    l=list(string)\n",
        "    l[position]=character\n",
        "    string=\"\".join(l)\n",
        "    return string\n",
        "\n",
        "if __name__ == '__main__':\n",
        "    s = input()\n",
        "    i, c = input().split()\n",
        "    s_new = mutate_string(s, int(i), c)\n",
        "    print(s_new)"
      ],
      "execution_count": null,
      "outputs": []
    },
    {
      "cell_type": "code",
      "metadata": {
        "id": "KiAWadBDFRPo"
      },
      "source": [
        "#question 5 find a string\n",
        "def count_substring(string, sub_string):\n",
        "    res = [i for i in range(len(string)) \n",
        "    if string.startswith(sub_string, i)]\n",
        "    \n",
        "    return len(res)\n",
        "\n",
        "if __name__ == '__main__':\n",
        "    string = input().strip()\n",
        "    sub_string = input().strip()\n",
        "    \n",
        "    count = count_substring(string, sub_string)\n",
        "    print(count)"
      ],
      "execution_count": null,
      "outputs": []
    },
    {
      "cell_type": "code",
      "metadata": {
        "id": "CYDb3Z1DFfmA"
      },
      "source": [
        "#question 6 string validators\n",
        "if __name__ == '__main__':\n",
        "    s = input()\n",
        "    print(any(map(str.isalnum,s)))  \n",
        "    print(any(map(str.isalpha,s)))  \n",
        "    print(any(map(str.isdigit,s)))  \n",
        "    print(any(map(str.islower,s)))  \n",
        "    print(any(map(str.isupper,s))) \n"
      ],
      "execution_count": null,
      "outputs": []
    },
    {
      "cell_type": "code",
      "metadata": {
        "id": "Zi1PwO7_FsNO"
      },
      "source": [
        "#question 7 text alignment\n",
        "#Replace all ______ with rjust, ljust or center. \n",
        "\n",
        "thickness = int(input()) #This must be an odd number\n",
        "c = 'H'\n",
        "\n",
        "#Top Cone\n",
        "for i in range(thickness):\n",
        "    print((c*i).rjust(thickness-1)+c+(c*i).ljust(thickness-1))\n",
        "\n",
        "#Top Pillars\n",
        "for i in range(thickness+1):\n",
        "    print((c*thickness).center(thickness*2)+(c*thickness).center(thickness*6))\n",
        "\n",
        "#Middle Belt\n",
        "for i in range((thickness+1)//2):\n",
        "    print((c*thickness*5).center(thickness*6))    \n",
        "\n",
        "#Bottom Pillars\n",
        "for i in range(thickness+1):\n",
        "    print((c*thickness).center(thickness*2)+(c*thickness).center(thickness*6))    \n",
        "\n",
        "#Bottom Cone\n",
        "for i in range(thickness):\n",
        "    print(((c*(thickness-i-1)).rjust(thickness)+c+(c*(thickness-i-1)).ljust(thickness)).rjust(thickness*6))"
      ],
      "execution_count": null,
      "outputs": []
    },
    {
      "cell_type": "code",
      "metadata": {
        "id": "x24J-m1jF4iw"
      },
      "source": [
        "#question 8 text wrap\n",
        "def wrap(string, max_width):\n",
        "    string=string.strip()\n",
        "    return textwrap.fill(string,max_width)\n",
        "f __name__ == '__main__':\n",
        "    string, max_width = input(), int(input())\n",
        "    result = wrap(string, max_width)\n",
        "    print(result)    \n"
      ],
      "execution_count": null,
      "outputs": []
    },
    {
      "cell_type": "code",
      "metadata": {
        "id": "wr09p05jGU6P"
      },
      "source": [
        "#question 9 design door mat\n",
        "# Enter your code here. Read input from STDIN. Print output to STDOUT\n",
        "row,column=map(int,input().split())\n",
        "mid=row//2+1\n",
        "for i in range(1,mid):\n",
        "    #calculate the no.of .|.\n",
        "    pattern=(i*2-1)*\".|.\"\n",
        "    print(pattern.center(column,\"-\"))\n",
        "print(\"WELCOME\".center(column,\"-\"))\n",
        "for i in reversed(range(1,mid)):\n",
        "         pattern=(i*2-1)*\".|.\"\n",
        "         print(pattern.center(column,\"-\"))"
      ],
      "execution_count": null,
      "outputs": []
    },
    {
      "cell_type": "code",
      "metadata": {
        "id": "9QaL_2k-GfFh"
      },
      "source": [
        "#question 10 string formatting\n",
        "def print_formatted(number):\n",
        "    # your code goes here\n",
        "    w = len(str(bin(number))[2:])\n",
        "    \n",
        "   # w = len(str(bin(number)).replace('0b',''))\n",
        "    for i in range(1,number+1):\n",
        "        print (str(i).rjust(w,' '),str(oct(i)[2:]).rjust(w,' '),str(hex(i)[2:].upper()).rjust(w,' '),str(bin(i)[2:]).rjust(w,' '),sep=' ')\n",
        "if __name__ == '__main__':\n",
        "    n = int(input())\n",
        "    print_formatted(n)        "
      ],
      "execution_count": null,
      "outputs": []
    },
    {
      "cell_type": "code",
      "metadata": {
        "id": "uKV6oNAOG4IH"
      },
      "source": [
        "#question 11 alphabet rangoli\n",
        "def print_rangoli(size):\n",
        "    # your code goes here\n",
        "    import string\n",
        "    alpha = string.ascii_lowercase\n",
        "    \n",
        "    pattern  = []\n",
        "    for i in range(size):\n",
        "        s = \"-\".join(alpha[i:size])\n",
        "        pattern.append((s[::-1]+s[1:]).center(4*size-3, \"-\"))\n",
        "        \n",
        "    print('\\n'.join(pattern[:0:-1]+pattern))\n",
        "f __name__ == '__main__':\n",
        "    n = int(input())\n",
        "    print_rangoli(n)    "
      ],
      "execution_count": null,
      "outputs": []
    },
    {
      "cell_type": "code",
      "metadata": {
        "id": "uY51cA04HGzL"
      },
      "source": [
        "#questoin 12 capitalize\n",
        "# Complete the solve function below.\n",
        "def solve(s):\n",
        "    \n",
        "     a=s.split(\" \")\n",
        "     b=[i.capitalize() for i in a]\n",
        "     c=\" \".join(b)\n",
        "     \n",
        "    \n",
        "     return c\n",
        "    \n",
        "f __name__ == '__main__':\n",
        "    fptr = open(os.environ['OUTPUT_PATH'], 'w')\n",
        "\n",
        "    s = input()\n",
        "\n",
        "    result = solve(s)\n",
        "\n",
        "    fptr.write(result + '\\n')\n",
        "\n",
        "    fptr.close()\n"
      ],
      "execution_count": null,
      "outputs": []
    },
    {
      "cell_type": "code",
      "metadata": {
        "id": "G-MJbolAHTmI"
      },
      "source": [
        "#question 13 minion game\n",
        "def minion_game(string):\n",
        "    # your code goes here\n",
        "    con,vow=0,0\n",
        "    s=len(string)\n",
        "    for i in range(s):\n",
        "        if string[i] in 'AEIOU':\n",
        "            vow=vow+(s-i)\n",
        "        else:\n",
        "            con=con+(s-i)\n",
        "    if con>vow:\n",
        "        print(\"Stuart {}\".format(con))\n",
        "    elif con==vow:\n",
        "            print(\"Draw\")\n",
        "    else:\n",
        "            print(\"Kevin {}\".format(vow)) \n",
        "if __name__ == '__main__':\n",
        "    s = input()\n",
        "    minion_game(s)            "
      ],
      "execution_count": null,
      "outputs": []
    },
    {
      "cell_type": "code",
      "metadata": {
        "id": "b0D6FV6MHkzd"
      },
      "source": [
        "#question 14 merge the tools\n",
        "def merge_the_tools(string, k):\n",
        "    # your code goes here\n",
        "    str=\"\"\n",
        "    count=0\n",
        "    for i in string:\n",
        "        if i not in str:\n",
        "            str=str+i\n",
        "        count=count+1\n",
        "        if count==k:\n",
        "            count=0\n",
        "            print(str)\n",
        "            str=\"\"    \n",
        "if __name__ == '__main__':\n",
        "    string, k = input(), int(input())\n",
        "    merge_the_tools(string, k)        \n"
      ],
      "execution_count": null,
      "outputs": []
    },
    {
      "cell_type": "code",
      "metadata": {
        "id": "rDXzbge0HxsQ"
      },
      "source": [
        ""
      ],
      "execution_count": null,
      "outputs": []
    }
  ]
}