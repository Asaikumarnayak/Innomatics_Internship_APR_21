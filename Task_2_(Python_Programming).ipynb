{
  "nbformat": 4,
  "nbformat_minor": 0,
  "metadata": {
    "colab": {
      "name": "Task - 2 (Python Programming).ipynb",
      "provenance": [],
      "collapsed_sections": []
    },
    "kernelspec": {
      "name": "python3",
      "display_name": "Python 3"
    },
    "language_info": {
      "name": "python"
    }
  },
  "cells": [
    {
      "cell_type": "code",
      "metadata": {
        "id": "1tO_DsS9XquT"
      },
      "source": [
        "#question 1 listcomprehension\n",
        "if __name__ == '__main__':\n",
        "    x = int(raw_input())\n",
        "    y = int(raw_input())\n",
        "    z = int(raw_input())\n",
        "    n = int(raw_input())\n",
        "    l=list()\n",
        "for i in range(x+1):\n",
        "    for j in range(y+1):\n",
        "        for k in range(z+1):\n",
        "            if((i+j+k)!=n):\n",
        "                l.append([i,j,k])\n",
        "print(l)                "
      ],
      "execution_count": null,
      "outputs": []
    },
    {
      "cell_type": "code",
      "metadata": {
        "id": "byxt3WhkxSRJ"
      },
      "source": [
        "#question 2 runner up\n",
        "if __name__ == '__main__':\n",
        "    n = int(raw_input())\n",
        "    arr = map(int, raw_input().split())\n",
        "   \n",
        "    r=list(set(arr))\n",
        "    r.sort()\n",
        "    print(r[-2])"
      ],
      "execution_count": null,
      "outputs": []
    },
    {
      "cell_type": "code",
      "metadata": {
        "id": "Kt1rx35gxZl1"
      },
      "source": [
        "#question 3 nested list\n",
        "marksheet=[]\n",
        "scorelist=[]\n",
        "if __name__ == '__main__':\n",
        "        for i in range(int(input())):\n",
        "                name = input()\n",
        "                score = float(input())\n",
        "                marksheet+=[[name,score]]\n",
        "                scorelist+=[score]\n",
        "                #marksheet.append([name,score])\n",
        "                #scorelist.append([score])\n",
        "        b=sorted(list(set(scorelist)))[1] \n",
        "\n",
        "        for a,c in sorted(marksheet):\n",
        "             if c==b:\n",
        "                    print(a)"
      ],
      "execution_count": null,
      "outputs": []
    },
    {
      "cell_type": "code",
      "metadata": {
        "id": "lDTQ9Mcaxjx_"
      },
      "source": [
        "#question 4 finding percentage\n",
        "if __name__ == '__main__':\n",
        "    n = int(raw_input())\n",
        "    student_marks = {}\n",
        "    for _ in range(n):\n",
        "        line = raw_input().split()\n",
        "        name, scores = line[0], line[1:]\n",
        "        scores = map(float, scores)\n",
        "        student_marks[name] = scores\n",
        "    query_name = raw_input()\n",
        "a,b,c = student_marks[query_name]\n",
        "\n",
        "print('%.2f'%((a+b+c)/3))"
      ],
      "execution_count": null,
      "outputs": []
    },
    {
      "cell_type": "code",
      "metadata": {
        "id": "sg3Z9evFx2JT"
      },
      "source": [
        "#question 5 lists\n",
        "if __name__ == '__main__':\n",
        "   \n",
        "    N = int(input().strip())\n",
        "l = []\n",
        "for t in range(N):\n",
        "    s =input().strip().split(\" \")\n",
        "    if s[0] == \"append\":\n",
        "        l.append(int(s[1]))\n",
        "    elif s[0] == \"insert\":\n",
        "        l.insert(int(s[1]), int(s[2]))\n",
        "    elif s[0] == \"remove\":\n",
        "        l.remove(int(s[1]))\n",
        "    elif s[0] == \"pop\":\n",
        "        l.pop()\n",
        "    elif s[0] == \"sort\":\n",
        "        l.sort()\n",
        "    elif s[0] == \"reverse\":\n",
        "        l.reverse()\n",
        "    elif s[0] == \"print\":\n",
        "        print(l)"
      ],
      "execution_count": null,
      "outputs": []
    },
    {
      "cell_type": "code",
      "metadata": {
        "id": "slRx8Ybkx4KU"
      },
      "source": [
        "#question 6 tuples\n",
        "if __name__ == '__main__':\n",
        "    n = int(raw_input())\n",
        "    integer_list = map(int, raw_input().split())\n",
        "    t=tuple(integer_list)\n",
        "    for i in range(n):\n",
        "        integer_list[i]=int(integer_list[i])\n",
        "    print(hash(t))\n",
        "        \n"
      ],
      "execution_count": null,
      "outputs": []
    },
    {
      "cell_type": "code",
      "metadata": {
        "id": "ByDmwFqix_OZ"
      },
      "source": [
        "#question 7 introductions to sets\n",
        "from __future__ import division\n",
        "\n",
        "def average(array):\n",
        "    # your code goes here\n",
        "    sdh=sum(set(array))\n",
        "    tndh=len(set(array))\n",
        "    return sdh/tndh\n",
        "if __name__ == '__main__':\n",
        "    n = int(raw_input())\n",
        "    arr = map(int, raw_input().split())\n",
        "    result = average(arr)\n",
        "    print result"
      ],
      "execution_count": null,
      "outputs": []
    },
    {
      "cell_type": "code",
      "metadata": {
        "id": "R8UwhfMByUlI"
      },
      "source": [
        "#question 8 no idea\n",
        "# Enter your code here. Read input from STDIN. Print output to STDOUT\n",
        "io = input().split()\n",
        "m = int(io[0])\n",
        "n = int(io[1])\n",
        "\n",
        "storage = list()\n",
        "count = 0\n",
        "\n",
        "storage = list(map(int, input().strip().split()))\n",
        "\n",
        "A = set(map(int, input().strip().split()))\n",
        "B = set(map(int, input().strip().split()))\n",
        "\n",
        "for i in storage:\n",
        "    if i in A:\n",
        "        count = count+1\n",
        "    if i in B:\n",
        "        count = count-1\n",
        "\n",
        "print(count)"
      ],
      "execution_count": null,
      "outputs": []
    },
    {
      "cell_type": "code",
      "metadata": {
        "id": "uHXuBu3_yiWB"
      },
      "source": [
        "#question 9 symmetric_difference()\n",
        "# Enter your code here. Read input from STDIN. Print output to STDOUT\n",
        "n=int(input())\n",
        "n1=set(map(int,input().split()))\n",
        "m=int(input())\n",
        "m1=set(map(int,input().split()))\n",
        "print(len(n1.symmetric_difference(m1)))"
      ],
      "execution_count": null,
      "outputs": []
    },
    {
      "cell_type": "code",
      "metadata": {
        "id": "Fa5pgiSSyyyc"
      },
      "source": [
        "#question 10  set.add()\n",
        "n = int(raw_input())\n",
        "s = set()\n",
        "for i in range(n):\n",
        "    s.add(raw_input())\n",
        "print len(s)"
      ],
      "execution_count": null,
      "outputs": []
    },
    {
      "cell_type": "code",
      "metadata": {
        "id": "eWe4tRb3y6hl"
      },
      "source": [
        "#question 11 set.discard(),.remove()&.pop()\n",
        "n = int(input())\n",
        "s = set(map(int, input().split()))\n",
        "m=int(input())\n",
        "for i in range(m):\n",
        "    s1=list(input().split())\n",
        "    if s1[0]==\"pop\":\n",
        "       s.pop()\n",
        "    elif s1[0]==\"remove\":\n",
        "        s.remove(int(s1[1]))\n",
        "    elif s1[0]==\"discard\":\n",
        "            s.discard(int(s1[1]))\n",
        "\n",
        "print(sum(s))                \n"
      ],
      "execution_count": null,
      "outputs": []
    },
    {
      "cell_type": "code",
      "metadata": {
        "id": "Dn4eooyvy8_B"
      },
      "source": [
        "#question 12 set.union()\n",
        "# Enter your code here. Read input from STDIN. Print output to STDOUT\n",
        "n=int(input())\n",
        "n1=set(map(int, input().split()))\n",
        "m=int(input())\n",
        "m1=set(map(int, input().split()))\n",
        "c=n1.union(m1)\n",
        "\n",
        "\n",
        "print(len(c))\n"
      ],
      "execution_count": null,
      "outputs": []
    },
    {
      "cell_type": "code",
      "metadata": {
        "id": "_IixYba5zKuE"
      },
      "source": [
        "#question 13 set.intersection()\n",
        "# Enter your code here. Read input from STDIN. Print output to STDOUT\n",
        "n=int(input())\n",
        "n1=set(map(int,input().split()))\n",
        "m=int(input())\n",
        "m1=set(map(int,input().split()))\n",
        "print(len(n1.intersection(m1)))"
      ],
      "execution_count": null,
      "outputs": []
    },
    {
      "cell_type": "code",
      "metadata": {
        "id": "l2jYpzTXzMNP"
      },
      "source": [
        "#question 14 set.difference()\n",
        "# Enter your code here. Read input from STDIN. Print output to STDOUT\n",
        "n=int(input())\n",
        "n1=set(map(int,input().split()))\n",
        "m=int(input())\n",
        "m1=set(map(int,input().split()))\n",
        "print(len(n1.difference(m1)))"
      ],
      "execution_count": null,
      "outputs": []
    },
    {
      "cell_type": "code",
      "metadata": {
        "id": "VRVwdW6rzZd9"
      },
      "source": [
        "#question 15 symmetric difference\n",
        "# Enter your code here. Read input from STDIN. Print output to STDOUT\n",
        "M=int(input())\n",
        "l=[int(x) for x in input().split()]\n",
        "N=int(input())\n",
        "o=[int(y) for y in input().split()]\n",
        "l=set(l)\n",
        "\n",
        "\n",
        "o=set(o)\n",
        "v=l.symmetric_difference(o)\n",
        "v=list(v)\n",
        "v.sort()\n",
        "for i in v:\n",
        "    print(i)\n"
      ],
      "execution_count": null,
      "outputs": []
    },
    {
      "cell_type": "code",
      "metadata": {
        "id": "i_KDp3If0GsV"
      },
      "source": [
        "#question 16 set mutations\n",
        "# Enter your code here. Read input from STDIN. Print output to STDOUT\n",
        "a=int(input())\n",
        "a1=set(map(int,input().split()))\n",
        "b=int(input())\n",
        "#\n",
        "for a in range(b):\n",
        "    req,a=input().split()\n",
        "    b1=set(map(int,input().split()))\n",
        "    if req==\"intersection_update\":\n",
        "        a1.intersection_update(b1)\n",
        "    elif req==\"update\":\n",
        "        a1.update(b1)\n",
        "    elif req==\"symmetric_difference_update\":\n",
        "        a1.symmetric_difference_update(b1)  \n",
        "    elif req==\"difference_update\":\n",
        "        a1.difference_update(b1)\n",
        "print(sum(a1))       "
      ],
      "execution_count": null,
      "outputs": []
    },
    {
      "cell_type": "code",
      "metadata": {
        "id": "CJ3xwXzV0dO2"
      },
      "source": [
        "#question 17 captain's room\n",
        "# Enter your code here. Read input from STDIN. Print output to STDOUT\n",
        "n=int(input())#k=5\n",
        "n1=input().split()\n",
        "a=len(n1)#The list of room numbers contains a elements\n",
        "q=a//n#no.of groups\n",
        "#b=list(map(int,n1))\n",
        "from collections import Counter\n",
        "c = Counter(n1)\n",
        "#print(c)\n",
        "print(min(c, key=c.get))    \n",
        "\n"
      ],
      "execution_count": null,
      "outputs": []
    },
    {
      "cell_type": "code",
      "metadata": {
        "id": "C0pgVjau00-M"
      },
      "source": [
        "#question 18 check subset\n",
        "# Enter your code here. Read input from STDIN. Print output to STDOUT\n",
        "n=int(input())\n",
        "for i in range(n):\n",
        "    a = int(input())\n",
        "    a1 = set(input().split())\n",
        "    b = int(input())\n",
        "    b1 = set(input().split())\n",
        "    c = a1.difference(b1)\n",
        "    if len(c) == 0:\n",
        "        print(True)\n",
        "    else:\n",
        "        print(False)"
      ],
      "execution_count": null,
      "outputs": []
    },
    {
      "cell_type": "code",
      "metadata": {
        "id": "xYwwsu0H09FT"
      },
      "source": [
        "#question 19 check strict superseet\n",
        "a = set(input().split())\n",
        "counter , n = 0, int(input())\n",
        "for i in range (n):\n",
        "        b = set(input().split())\n",
        "        if a.issuperset(b) :\n",
        "                counter += 1\n",
        "print(counter == n)"
      ],
      "execution_count": null,
      "outputs": []
    }
  ]
}