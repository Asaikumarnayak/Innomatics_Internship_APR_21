{
  "nbformat": 4,
  "nbformat_minor": 0,
  "metadata": {
    "kernelspec": {
      "display_name": "Python 3",
      "language": "python",
      "name": "python3"
    },
    "language_info": {
      "codemirror_mode": {
        "name": "ipython",
        "version": 3
      },
      "file_extension": ".py",
      "mimetype": "text/x-python",
      "name": "python",
      "nbconvert_exporter": "python",
      "pygments_lexer": "ipython3",
      "version": "3.8.5"
    },
    "colab": {
      "name": "Task - 9 (Hypothesis Testing).ipynb",
      "provenance": [],
      "collapsed_sections": []
    }
  },
  "cells": [
    {
      "cell_type": "code",
      "metadata": {
        "id": "ODo8JL94qbFb"
      },
      "source": [
        "import matplotlib.pyplot as plt\n",
        "import numpy as np\n",
        "from scipy.stats import norm"
      ],
      "execution_count": null,
      "outputs": []
    },
    {
      "cell_type": "code",
      "metadata": {
        "id": "23jzEZ4aqbF1"
      },
      "source": [
        "# z_score for sampling distributions\n",
        "\n",
        "def z_score(sample_size, sample_mean, pop_mean, pop_std):\n",
        "    numerator = sample_mean - pop_mean\n",
        "    denomenator = pop_std / sample_size**0.5\n",
        "    return numerator / denomenator"
      ],
      "execution_count": null,
      "outputs": []
    },
    {
      "cell_type": "markdown",
      "metadata": {
        "id": "An8jUwDyqbF4"
      },
      "source": [
        "# Understanding the Hypothesis Testing"
      ]
    },
    {
      "cell_type": "markdown",
      "metadata": {
        "id": "fEMCeNDfqbF5"
      },
      "source": [
        "Step - 1:  \n",
        "Alternate Hypothesis (Bold claim): $ H_1 \\ \\Rightarrow \\ >, \\ <, \\ \\neq  $  \n",
        "Null Hypothesis (Status Quo): $ H_0 \\ \\Rightarrow \\ \\leq, \\ \\geq, \\ = $\n",
        "\n",
        "Step - 2:  \n",
        "* Collect a sample of size n\n",
        "* Compute the mean from this sample $ \\bar{x} $\n",
        "\n",
        "Step - 3:\n",
        "Compute Test Statistic:  \n",
        "* If population variance is known $$ z = \\frac{\\bar{x} - \\mu}{\\sigma/\\sqrt[2]{n}}$$\n",
        "\n",
        "* If population variance is unknown $$ t = \\frac{\\bar{x} - \\mu}{s/\\sqrt[2]{n}} $$\n",
        "\n",
        "Step - 4:\n",
        "Decide significance level $ \\alpha $. Lower $ \\alpha $ means you need stronger evidence to reject Null Hypothesis.\n",
        "\n",
        "Step - 5.1: Apply decision rule:\n",
        "* If test statistic is z-score -\n",
        "    * Two tailed z-test: $$ |z| > z_\\frac{\\alpha}{2} \\Rightarrow Accept \\ H_1 \\ or \\ Reject \\ H_0$$\n",
        "    * Right tailed z-test: $$ z > z_\\alpha \\Rightarrow Accept \\ H_1 \\ or \\ Reject \\ H_0 $$\n",
        "    * Left tailed z-test: $$ z < -z_\\alpha \\Rightarrow Accept \\ H_1 \\ or \\ Reject \\ H_0 $$\n",
        "    \n",
        "* If test statistic is t-score\n",
        "    * Two tailed t-test: $$ |t| > t_{n-1,\\frac{\\alpha}{2}} \\Rightarrow Accept \\ H_1 \\ or \\ Reject \\ H_0 $$\n",
        "    * Right tailed t-test: $$ t > t_{n-1,\\alpha} \\Rightarrow Accept \\ H_1 \\ or \\ Reject \\ H_0 $$\n",
        "    * Left tailed t-test: $$ t < t_{n-1,\\alpha} \\Rightarrow Accept \\ H_1 \\ or \\ Reject \\ H_0 $$\n",
        "\n",
        "Step - 5.2: Compute p-value $ P(Test \\ Statistics | H_0) $\n",
        "* For two tailed test: $$ p \\ value = 2 * (1.0 - cdf(test \\ statistic)) $$\n",
        "* For one tailed test: $$ p \\ value = (1.0 - cdf(test \\ statistic)) $$\n",
        "Now, $$ if (p \\ value < \\alpha) \\Rightarrow Accept \\ H_1 \\ or \\ Reject \\ H_0 $$"
      ]
    },
    {
      "cell_type": "markdown",
      "metadata": {
        "id": "NIWlplRTqbF8"
      },
      "source": [
        "### Known Variance of Population"
      ]
    },
    {
      "cell_type": "markdown",
      "metadata": {
        "id": "4Z4FuvkaqbF9"
      },
      "source": [
        "<b>Q-1: Pista House selling Hyderabadi Chicken Dum biryani claims that each parcel packet has 500 grams of biryani (also mentioned on the label of packet). You are sceptic of their claims and believe that on average each packet does not contain 500 grams of biryani. How do you prove your claim? (Given that the population std is 50) </b>\n",
        "\n",
        "\n",
        "Step - 1:  \n",
        "Alternate Hypothesis (Bold claim): $$ H_1: \\ ? $$\n",
        "Null Hypothesis (Status Quo): $$ H_0: \\ ? $$\n",
        "\n",
        "Step - 2:  \n",
        "* Collect a sample of size n = 10 $$ [490, 220, 470, 500, 495, 496, 496, 498, 508, 480] $$\n",
        "* Compute sample mean $$ \\bar{x} \\ = \\ ? $$\n",
        "\n",
        "Step - 3:\n",
        "Compute Test Statistic: $$ z = \\frac{\\bar{x} - \\mu}{\\sigma/\\sqrt[2]{n}}$$\n",
        "\n",
        "Step - 4:\n",
        "Decide $ \\alpha $ or significance level\n",
        "\n",
        "Step - 5.1: ? tailed z-test: $$ reject \\ H_0 \\ if \\ ? $$\n",
        "\n",
        "Step - 5.2: Compute p-value\n"
      ]
    },
    {
      "cell_type": "code",
      "metadata": {
        "colab": {
          "base_uri": "https://localhost:8080/"
        },
        "id": "ZmJ8HnIZqbF_",
        "outputId": "d7e0393a-5e86-435f-ea6c-8884d873eca4"
      },
      "source": [
        "l = [490, 220, 470, 500, 495, 496, 496, 498, 508, 480]\n",
        "\n",
        "sum(l)/len(l)"
      ],
      "execution_count": null,
      "outputs": [
        {
          "output_type": "execute_result",
          "data": {
            "text/plain": [
              "465.3"
            ]
          },
          "metadata": {
            "tags": []
          },
          "execution_count": 73
        }
      ]
    },
    {
      "cell_type": "code",
      "metadata": {
        "scrolled": true,
        "colab": {
          "base_uri": "https://localhost:8080/"
        },
        "id": "wmqFvrbGqbGB",
        "outputId": "110c11c2-9276-4ace-bf11-0b4de9578133"
      },
      "source": [
        "# Two Tail - Calculating the z-critical value\n",
        "\n",
        "confidence_level = 0.95\n",
        "\n",
        "alpha = 1 - confidence_level\n",
        "\n",
        "z_critical = norm.ppf(1 - alpha/2) # Two tailed Z score for 95% Confidence Level\n",
        "\n",
        "print(z_critical)"
      ],
      "execution_count": null,
      "outputs": [
        {
          "output_type": "stream",
          "text": [
            "1.959963984540054\n"
          ],
          "name": "stdout"
        }
      ]
    },
    {
      "cell_type": "code",
      "metadata": {
        "id": "CXK0EFx9qbGD"
      },
      "source": [
        "# Defining the sample and population parameters\n",
        "\n",
        "sample_size = 10\n",
        "sample_mean = 465.3\n",
        "pop_mean = 500\n",
        "pop_std = 50"
      ],
      "execution_count": null,
      "outputs": []
    },
    {
      "cell_type": "code",
      "metadata": {
        "colab": {
          "base_uri": "https://localhost:8080/"
        },
        "id": "QfZtDrglqbGD",
        "outputId": "a9aeb0a6-ab39-4a1a-f3bd-1d1553703230"
      },
      "source": [
        "# Calculating the z-score\n",
        "\n",
        "z = z_score(sample_size, sample_mean, pop_mean, pop_std)\n",
        "\n",
        "print(z)"
      ],
      "execution_count": null,
      "outputs": [
        {
          "output_type": "stream",
          "text": [
            "-2.1946206961568544\n"
          ],
          "name": "stdout"
        }
      ]
    },
    {
      "cell_type": "code",
      "metadata": {
        "scrolled": true,
        "colab": {
          "base_uri": "https://localhost:8080/",
          "height": 282
        },
        "id": "TnigicDZqbGE",
        "outputId": "39eef916-6179-43c6-a893-e3f68ba35a36"
      },
      "source": [
        "# Ploting the sampling distribution with rejection regions\n",
        "\n",
        "# Defining the x minimum and x maximum\n",
        "x_min = 400\n",
        "x_max = 600\n",
        "\n",
        "\n",
        "# Defining the sampling distribution mean and sampling distribution std\n",
        "mean = pop_mean\n",
        "std = pop_std / sample_size**0.5\n",
        "\n",
        "\n",
        "# Ploting the graph and setting the x limits\n",
        "x = np.linspace(x_min, x_max, 100)\n",
        "y = norm.pdf(x, mean, std)\n",
        "plt.xlim(x_min, x_max)\n",
        "plt.plot(x, y)\n",
        "\n",
        "\n",
        "# Computing the left and right critical values (Two tailed Test)\n",
        "z_critical_left = pop_mean + (-z_critical * std)\n",
        "z_critical_right = pop_mean + (z_critical * std)\n",
        "\n",
        "\n",
        "# Shading the left rejection region\n",
        "x1 = np.linspace(x_min, z_critical_left, 100)\n",
        "y1 = norm.pdf(x1, mean, std)\n",
        "plt.fill_between(x1, y1, color='orange')\n",
        "\n",
        "\n",
        "# Shading the right rejection region\n",
        "x2 = np.linspace(z_critical_right, x_max, 100)\n",
        "y2 = norm.pdf(x2, mean, std)\n",
        "plt.fill_between(x2, y2, color='orange')\n",
        "\n",
        "\n",
        "# Ploting the sample mean and concluding the results \n",
        "plt.scatter(sample_mean, 0)\n",
        "plt.annotate(\"x_bar\", (sample_mean, 0.0007))\n",
        "\n",
        "\n",
        "# In this case sample mean falls in the rejection region\n",
        "# i.e. here we reject the Null Hypothesis"
      ],
      "execution_count": null,
      "outputs": [
        {
          "output_type": "execute_result",
          "data": {
            "text/plain": [
              "Text(465.3, 0.0007, 'x_bar')"
            ]
          },
          "metadata": {
            "tags": []
          },
          "execution_count": 77
        },
        {
          "output_type": "display_data",
          "data": {
            "image/png": "[encoded data removed]",
            "text/plain": [
              "<Figure size 432x288 with 1 Axes>"
            ]
          },
          "metadata": {
            "tags": [],
            "needs_background": "light"
          }
        }
      ]
    },
    {
      "cell_type": "code",
      "metadata": {
        "colab": {
          "base_uri": "https://localhost:8080/"
        },
        "id": "EalxWfCpqbGG",
        "outputId": "a20f4bfd-c9ff-4e5b-a9a9-66d05af6ffe4"
      },
      "source": [
        "# Conclusion using z test\n",
        "\n",
        "if(np.abs(z) > z_critical):\n",
        "    print(\"Reject Null Hypothesis\")\n",
        "else:\n",
        "    print(\"Fail to reject Null Hypothesis\")"
      ],
      "execution_count": null,
      "outputs": [
        {
          "output_type": "stream",
          "text": [
            "Reject Null Hypothesis\n"
          ],
          "name": "stdout"
        }
      ]
    },
    {
      "cell_type": "code",
      "metadata": {
        "colab": {
          "base_uri": "https://localhost:8080/"
        },
        "id": "Qkcf_Pp2qbGI",
        "outputId": "73e19e66-c4a1-4439-fc6b-881789f99e27"
      },
      "source": [
        "# Conclusion using p test\n",
        "\n",
        "p_value = 2 * (1.0 - norm.cdf(np.abs(z)))\n",
        "\n",
        "print(\"p_value = \", p_value)\n",
        "\n",
        "if(p_value < alpha):\n",
        "    print(\"Reject Null Hypothesis\")\n",
        "else:\n",
        "    print(\"Fail to reject Null Hypothesis\")"
      ],
      "execution_count": null,
      "outputs": [
        {
          "output_type": "stream",
          "text": [
            "p_value =  0.028190817687629988\n",
            "Reject Null Hypothesis\n"
          ],
          "name": "stdout"
        }
      ]
    },
    {
      "cell_type": "markdown",
      "metadata": {
        "id": "O5MDozUdqbGJ"
      },
      "source": [
        "<b>Q-2: You have developed a new Natural Language Processing Algorithms and done a user study. You claim that the average rating given by the users is greater than 4 on a scale of 1 to 5. How do you prove this to your client? (Given that the population std is 0.5)</b>\n",
        "\n",
        "Step - 1:  \n",
        "Alternate Hypothesis (Bold Claim): $$ H_1: \\ ? $$\n",
        "Null Hypothesis (Status Quo): $$ H_0: \\ ? $$\n",
        "\n",
        "Step - 2:  \n",
        "* Collect a sample of size n = 10 $$ [4, 3, 5, 4, 5, 3, 5, 5, 4, 2, 4, 5, 5, 4, 4, 5, 4, 5, 4, 5] $$\n",
        "* Compute sample mean $$ \\bar{x} \\ = \\ ? $$\n",
        "\n",
        "Step - 3:\n",
        "Compute Test Statistic: $$ z = \\frac{\\bar{x} - \\mu}{\\sigma/\\sqrt[2]{n}}$$\n",
        "\n",
        "Step - 4:\n",
        "Decide $ \\alpha $\n",
        "\n",
        "Step - 5.1: ? tailed z-test: $$ reject \\ H_0 \\ if ? $$\n",
        "\n",
        "Step - 5.2: Compute p-value\n",
        "\n"
      ]
    },
    {
      "cell_type": "code",
      "metadata": {
        "colab": {
          "base_uri": "https://localhost:8080/"
        },
        "id": "0O8z3kYNqbGK",
        "outputId": "7496b132-3265-4833-e436-925242508119"
      },
      "source": [
        "# One Tail - Calculating the z-critical value\n",
        "\n",
        "confidence_level = 0.95\n",
        "\n",
        "alpha = 1 - confidence_level\n",
        "\n",
        "z_critical = norm.ppf(1 - alpha)\n",
        "\n",
        "print(z_critical)"
      ],
      "execution_count": null,
      "outputs": [
        {
          "output_type": "stream",
          "text": [
            "1.6448536269514722\n"
          ],
          "name": "stdout"
        }
      ]
    },
    {
      "cell_type": "code",
      "metadata": {
        "id": "1pg5jkcdqbGL"
      },
      "source": [
        "# Defining the sample and population parameters\n",
        "\n",
        "sample_size = 20\n",
        "sample_mean = 4.25\n",
        "pop_mean = 4\n",
        "pop_std = 0.5"
      ],
      "execution_count": null,
      "outputs": []
    },
    {
      "cell_type": "code",
      "metadata": {
        "colab": {
          "base_uri": "https://localhost:8080/"
        },
        "id": "P1Ns9S3SqbGM",
        "outputId": "02a8ed46-db36-4244-9cee-77051e73a3e7"
      },
      "source": [
        "# Calculating the z-score\n",
        "\n",
        "z = z_score(sample_size, sample_mean, pop_mean, pop_std)\n",
        "\n",
        "print(z)"
      ],
      "execution_count": null,
      "outputs": [
        {
          "output_type": "stream",
          "text": [
            "2.23606797749979\n"
          ],
          "name": "stdout"
        }
      ]
    },
    {
      "cell_type": "code",
      "metadata": {
        "colab": {
          "base_uri": "https://localhost:8080/",
          "height": 282
        },
        "id": "lvujP-N2qbGM",
        "outputId": "dd928f7c-63a0-4c2a-d7f4-a45f135f3834"
      },
      "source": [
        "# Ploting the sampling distribution with rejection regions\n",
        "\n",
        "# Defining the x minimum and x maximum\n",
        "x_min = 3.5\n",
        "x_max = 4.5\n",
        "\n",
        "\n",
        "# Defining the sampling distribution mean and sampling distribution std\n",
        "mean = pop_mean\n",
        "std = pop_std / (sample_size**0.5)\n",
        "\n",
        "\n",
        "# Ploting the graph and setting the x limits\n",
        "x = np.linspace(x_min, x_max, 100)\n",
        "y = norm.pdf(x, mean, std)\n",
        "plt.xlim(x_min, x_max)\n",
        "plt.plot(x, y)\n",
        "\n",
        "\n",
        "# Computing the right critical value (Right tailed Test)\n",
        "z_critical_right = pop_mean + (z_critical * std)\n",
        "\n",
        "\n",
        "# Shading the right rejection region\n",
        "x1 = np.linspace(z_critical_right, x_max, 100)\n",
        "y1 = norm.pdf(x1, mean, std)\n",
        "plt.fill_between(x1, y1, color='orange')\n",
        "\n",
        "\n",
        "# Ploting the sample mean and concluding the results \n",
        "plt.scatter(sample_mean, 0)\n",
        "plt.annotate(\"x_bar\", (sample_mean, 0.1))\n",
        "\n",
        "# In this case sample mean falls in the rejection region\n",
        "# i.e. Reject the Null Hypothesis"
      ],
      "execution_count": null,
      "outputs": [
        {
          "output_type": "execute_result",
          "data": {
            "text/plain": [
              "Text(4.25, 0.1, 'x_bar')"
            ]
          },
          "metadata": {
            "tags": []
          },
          "execution_count": 83
        },
        {
          "output_type": "display_data",
          "data": {
            "image/png": "[encoded data removed]",
            "text/plain": [
              "<Figure size 432x288 with 1 Axes>"
            ]
          },
          "metadata": {
            "tags": [],
            "needs_background": "light"
          }
        }
      ]
    },
    {
      "cell_type": "code",
      "metadata": {
        "colab": {
          "base_uri": "https://localhost:8080/"
        },
        "id": "IzQgZCT6qbGN",
        "outputId": "f1313219-5e61-4c1d-f7fc-39ee6959ecca"
      },
      "source": [
        "# Conclusion using z test\n",
        "\n",
        "if(z > z_critical):\n",
        "    print(\"Reject Null Hypothesis\")\n",
        "else:\n",
        "    print(\"Fail to reject Null Hypothesis\")"
      ],
      "execution_count": null,
      "outputs": [
        {
          "output_type": "stream",
          "text": [
            "Reject Null Hypothesis\n"
          ],
          "name": "stdout"
        }
      ]
    },
    {
      "cell_type": "code",
      "metadata": {
        "colab": {
          "base_uri": "https://localhost:8080/"
        },
        "id": "Hqlgf5EGqbGO",
        "outputId": "cb929f47-b4a2-484e-9b33-2f567bf89bad"
      },
      "source": [
        "# Conclusion using p test\n",
        "\n",
        "p_value = 1.0 - norm.cdf(np.abs(z))\n",
        "\n",
        "print(\"p_value = \", p_value)\n",
        "\n",
        "if(p_value < alpha):\n",
        "    print(\"Reject Null Hypothesis\")\n",
        "else:\n",
        "    print(\"Fail to reject Null Hypothesis\")"
      ],
      "execution_count": null,
      "outputs": [
        {
          "output_type": "stream",
          "text": [
            "p_value =  0.0126736593387341\n",
            "Reject Null Hypothesis\n"
          ],
          "name": "stdout"
        }
      ]
    },
    {
      "cell_type": "markdown",
      "metadata": {
        "id": "gIqvXpGuqbGO"
      },
      "source": [
        "<b>Q-3: TATA has developed a better fuel management system for the SUV segment. They claim that with this system, on average the SUV's mileage is at least 15 km/litre? (Given that the population std is 1)</b>\n",
        "\n",
        "Step - 1:  \n",
        "Alternate Hypothesis (Bold Claim): $$ H_1: \\ ? $$\n",
        "Null Hypothesis (Status Quo): $$ H_0: \\ ? $$\n",
        "\n",
        "Step - 2:  \n",
        "* Collect a sample of size n = 10 $$ [14.08, 14.13, 15.65, 13.78, 16.26, 14.97, 15.36, 15.81, 14.53, 16.79, 15.78, 16.98, 13.23, 15.43, 15.46, 13.88, 14.31, 14.41, 15.76, 15.38] $$\n",
        "* Compute sample mean $$ \\bar{x} \\ = \\ ? $$\n",
        "\n",
        "Step - 3:\n",
        "Compute Test Statistic: $$ z = \\frac{\\bar{x} - \\mu}{\\sigma/\\sqrt[2]{n}}$$\n",
        "\n",
        "Step - 4:\n",
        "Decide $ \\alpha $\n",
        "\n",
        "Step - 5.1: ? tailed z-test: $$ reject \\ H_0 \\ if \\ ? $$\n",
        "\n",
        "Step - 5.2: Compute p-value"
      ]
    },
    {
      "cell_type": "code",
      "metadata": {
        "colab": {
          "base_uri": "https://localhost:8080/"
        },
        "id": "JpbVO7Q6qbGP",
        "outputId": "c330f929-ea09-4d7f-d92a-219730627b54"
      },
      "source": [
        "# One Tail\n",
        "\n",
        "confidence_level = 0.95\n",
        "\n",
        "alpha = 1 - confidence_level\n",
        "\n",
        "z_critical = norm.ppf(1 - alpha)\n",
        "\n",
        "print(z_critical)"
      ],
      "execution_count": null,
      "outputs": [
        {
          "output_type": "stream",
          "text": [
            "1.6448536269514722\n"
          ],
          "name": "stdout"
        }
      ]
    },
    {
      "cell_type": "code",
      "metadata": {
        "id": "AxQG4RhmqbGQ"
      },
      "source": [
        "sample_size = 20\n",
        "sample_mean = 15.1\n",
        "pop_mean = 15\n",
        "pop_std = 1"
      ],
      "execution_count": null,
      "outputs": []
    },
    {
      "cell_type": "code",
      "metadata": {
        "colab": {
          "base_uri": "https://localhost:8080/"
        },
        "id": "SwkcL0F1qbGQ",
        "outputId": "567976d7-c343-4002-aff1-f13cf842d881"
      },
      "source": [
        "z = z_score(sample_size, sample_mean, pop_mean, pop_std)\n",
        "\n",
        "print(z)"
      ],
      "execution_count": null,
      "outputs": [
        {
          "output_type": "stream",
          "text": [
            "0.4472135954999564\n"
          ],
          "name": "stdout"
        }
      ]
    },
    {
      "cell_type": "code",
      "metadata": {
        "colab": {
          "base_uri": "https://localhost:8080/",
          "height": 282
        },
        "id": "H8c69SKUqbGR",
        "outputId": "58cea24b-2957-4ff7-d534-c930be64a192"
      },
      "source": [
        "x_min = 13\n",
        "x_max = 17\n",
        "\n",
        "mean = pop_mean\n",
        "std = pop_std / (sample_size**0.5)\n",
        "\n",
        "x = np.linspace(x_min, x_max, 100)\n",
        "y = norm.pdf(x, mean, std)\n",
        "\n",
        "plt.xlim(x_min, x_max)\n",
        "# plt.ylim(0, 0.03)\n",
        "\n",
        "plt.plot(x, y)\n",
        "\n",
        "z_critical_right = pop_mean + (z_critical * std)\n",
        "\n",
        "x1 = np.linspace(z_critical_right, x_max, 100)\n",
        "y1 = norm.pdf(x1, mean, std)\n",
        "plt.fill_between(x1, y1, color='orange')\n",
        "\n",
        "plt.scatter(sample_mean, 0)\n",
        "plt.annotate(\"x_bar\", (sample_mean, 0.1))\n",
        "\n",
        "# In this case sample mean falls in the acceptance region\n",
        "# i.e. Fail to Reject the Null Hypothesis"
      ],
      "execution_count": null,
      "outputs": [
        {
          "output_type": "execute_result",
          "data": {
            "text/plain": [
              "Text(15.1, 0.1, 'x_bar')"
            ]
          },
          "metadata": {
            "tags": []
          },
          "execution_count": 89
        },
        {
          "output_type": "display_data",
          "data": {
            "image/png": "[encoded data removed]",
            "text/plain": [
              "<Figure size 432x288 with 1 Axes>"
            ]
          },
          "metadata": {
            "tags": [],
            "needs_background": "light"
          }
        }
      ]
    },
    {
      "cell_type": "code",
      "metadata": {
        "colab": {
          "base_uri": "https://localhost:8080/"
        },
        "id": "7QH_TtNPqbGR",
        "outputId": "bd0bb6a4-1587-480e-e90f-1ebae6acc5a1"
      },
      "source": [
        "if(z > z_critical):\n",
        "    print(\"Reject Null Hypothesis\")\n",
        "else:\n",
        "    print(\"Fail to reject Null Hypothesis\")"
      ],
      "execution_count": null,
      "outputs": [
        {
          "output_type": "stream",
          "text": [
            "Fail to reject Null Hypothesis\n"
          ],
          "name": "stdout"
        }
      ]
    },
    {
      "cell_type": "code",
      "metadata": {
        "colab": {
          "base_uri": "https://localhost:8080/"
        },
        "id": "sxX-N7g0qbGS",
        "outputId": "802e7d76-d9b0-43a3-979a-84b99588dcff"
      },
      "source": [
        "p_value = 1.0 - norm.cdf(np.abs(z))\n",
        "\n",
        "print(\"p_value = \", p_value)\n",
        "\n",
        "if(p_value < alpha):\n",
        "    print(\"Reject Null Hypothesis\")\n",
        "else:\n",
        "    print(\"Fail to reject Null Hypothesis\")"
      ],
      "execution_count": null,
      "outputs": [
        {
          "output_type": "stream",
          "text": [
            "p_value =  0.32736042300928914\n",
            "Fail to reject Null Hypothesis\n"
          ],
          "name": "stdout"
        }
      ]
    },
    {
      "cell_type": "markdown",
      "metadata": {
        "id": "vZTN-lrNqbGS"
      },
      "source": [
        "<b>Q-4: You have developed a new Machine Learning Application and claim that on average it takes less than 100 ms to predict for any future datapoint. How do you convince your client about this claim? (Based on past data you know that the std is 10 ms)</b>\n",
        "\n",
        "Step - 1:  \n",
        "Alternate Hypothesis (Bold Claim): $$ H_1: \\ ? $$\n",
        "Null Hypothesis (Status Quo): $$ H_0: \\ ? $$\n",
        "\n",
        "Step - 2:  \n",
        "* Collect a sample of size n = 100\n",
        "* Compute sample mean $$ \\bar{x} \\ = \\ 97.5 $$\n",
        "\n",
        "Step - 3:\n",
        "Compute Test Statistic: $$ z = \\frac{\\bar{x} - \\mu}{\\sigma/\\sqrt[2]{n}}$$\n",
        "\n",
        "Step - 4:\n",
        "Decide $ \\alpha $\n",
        "\n",
        "Step - 5.1: ? tailed z-test: $$ reject \\ H_0 \\ if \\ ? $$\n",
        "\n",
        "Step - 5.2: Compute p-value"
      ]
    },
    {
      "cell_type": "code",
      "metadata": {
        "colab": {
          "base_uri": "https://localhost:8080/"
        },
        "id": "e2mHOSxeqbGT",
        "outputId": "e321e580-a46e-4c34-b653-ae80373ea850"
      },
      "source": [
        "# One Tail\n",
        "\n",
        "alpha = 1 - 0.99\n",
        "\n",
        "z_critical = norm.ppf(1 - alpha)\n",
        "\n",
        "print(z_critical)"
      ],
      "execution_count": null,
      "outputs": [
        {
          "output_type": "stream",
          "text": [
            "2.3263478740408408\n"
          ],
          "name": "stdout"
        }
      ]
    },
    {
      "cell_type": "code",
      "metadata": {
        "id": "ZVRpCiH1qbGT"
      },
      "source": [
        "sample_size = 100\n",
        "sample_mean = 97.5\n",
        "pop_mean = 100\n",
        "pop_std = 10"
      ],
      "execution_count": null,
      "outputs": []
    },
    {
      "cell_type": "code",
      "metadata": {
        "colab": {
          "base_uri": "https://localhost:8080/"
        },
        "id": "2haIQLC1qbGU",
        "outputId": "2048c1c1-7950-477f-9348-45b66891aaf6"
      },
      "source": [
        "z = z_score(sample_size, sample_mean, pop_mean, pop_std)\n",
        "\n",
        "print(z)"
      ],
      "execution_count": null,
      "outputs": [
        {
          "output_type": "stream",
          "text": [
            "-2.5\n"
          ],
          "name": "stdout"
        }
      ]
    },
    {
      "cell_type": "code",
      "metadata": {
        "scrolled": true,
        "colab": {
          "base_uri": "https://localhost:8080/",
          "height": 282
        },
        "id": "mp7s3XspqbGV",
        "outputId": "d6329a70-a4d7-42c0-860d-5bd8f650b793"
      },
      "source": [
        "x_min = 95\n",
        "x_max = 105\n",
        "\n",
        "mean = pop_mean\n",
        "std = pop_std / (sample_size**0.5)\n",
        "\n",
        "x = np.linspace(x_min, x_max, 100)\n",
        "y = norm.pdf(x, mean, std)\n",
        "\n",
        "plt.xlim(x_min, x_max)\n",
        "# plt.ylim(0, 0.03)\n",
        "\n",
        "plt.plot(x, y)\n",
        "\n",
        "z_critical_left = pop_mean + (-z_critical * std)\n",
        "\n",
        "x1 = np.linspace(x_min, z_critical_left, 100)\n",
        "y1 = norm.pdf(x1, mean, std)\n",
        "plt.fill_between(x1, y1, color='orange')\n",
        "\n",
        "plt.scatter(sample_mean, 0)\n",
        "plt.annotate(\"x_bar\", (sample_mean, 0.02))\n",
        "\n",
        "# In this case sample mean falls in the rejection region\n",
        "\n",
        "# i.e. Reject Null Hypothesis"
      ],
      "execution_count": null,
      "outputs": [
        {
          "output_type": "execute_result",
          "data": {
            "text/plain": [
              "Text(97.5, 0.02, 'x_bar')"
            ]
          },
          "metadata": {
            "tags": []
          },
          "execution_count": 95
        },
        {
          "output_type": "display_data",
          "data": {
            "image/png": "[encoded data removed]",
            "text/plain": [
              "<Figure size 432x288 with 1 Axes>"
            ]
          },
          "metadata": {
            "tags": [],
            "needs_background": "light"
          }
        }
      ]
    },
    {
      "cell_type": "code",
      "metadata": {
        "colab": {
          "base_uri": "https://localhost:8080/"
        },
        "id": "TinQhaN7qbGW",
        "outputId": "a6e7236e-624e-4015-e731-a19ee8c32703"
      },
      "source": [
        "if(z < -z_critical):\n",
        "    print(\"Reject Null Hypothesis\")\n",
        "else:\n",
        "    print(\"Fail to reject Null Hypothesis\")"
      ],
      "execution_count": null,
      "outputs": [
        {
          "output_type": "stream",
          "text": [
            "Reject Null Hypothesis\n"
          ],
          "name": "stdout"
        }
      ]
    },
    {
      "cell_type": "code",
      "metadata": {
        "colab": {
          "base_uri": "https://localhost:8080/"
        },
        "id": "tRy_t2lCqbGW",
        "outputId": "97cab4c0-cbe5-475c-c7f5-3021b743e109"
      },
      "source": [
        "p_value = 1.0 - norm.cdf(np.abs(z))\n",
        "\n",
        "print(\"p_value = \", p_value)\n",
        "\n",
        "if(p_value < 0.01):\n",
        "    print(\"Reject Null Hypothesis\")\n",
        "else:\n",
        "    print(\"Fail to reject Null Hypothesis\")"
      ],
      "execution_count": null,
      "outputs": [
        {
          "output_type": "stream",
          "text": [
            "p_value =  0.006209665325776159\n",
            "Reject Null Hypothesis\n"
          ],
          "name": "stdout"
        }
      ]
    },
    {
      "cell_type": "markdown",
      "metadata": {
        "id": "OWiqk1ZZqbGX"
      },
      "source": [
        "### Unknown Variance of Population"
      ]
    },
    {
      "cell_type": "markdown",
      "metadata": {
        "id": "mCVu4uTJqbGX"
      },
      "source": [
        "<b>Q-1: Pista House selling Hyderabadi Chicken Dum biryani claims that each parcel packet has 500 grams of biryani (also mentioned on the label of packet). You are sceptic of their claims and believe that on average each packet does not contain 500 grams of biryani. How do you prove your claim? ~(Given that the population std is 50)~ </b>\n",
        "\n",
        "<b>Q-2: You have developed a new Natural Language Processing Algorithms and done a user study. You claim that the average rating given by the users is greater than 4 on a scale of 1 to 5. How do you prove this to your client? ~(Given that the population std is 0.5)~ </b>\n",
        "\n",
        "<b>Q-3: TATA has developed a better fuel management system for the SUV segment. They claim that with this system, on average the SUV's mileage is at least 15 km/litre? ~(Given that the population std is 1)~ </b>\n",
        "\n",
        "<b>Q-4: You have developed a new Machine Learning Application and claim that on average it takes less than 100 ms to predict for any future datapoint. How do you convince your client about this claim? ~(Based on past data you know that the std is 10 ms)~ </b>\n",
        "\n"
      ]
    },
    {
      "cell_type": "markdown",
      "metadata": {
        "id": "mQa2pURXqbGY"
      },
      "source": [
        "* <b>Solve all the above mentioned questions in Jupyter Notebook.</b>   \n",
        "* <b>Explain each step and write a proper formated code.</b>    \n",
        "* <b>Use proper variable names in your code.</b>   \n",
        "* <b>Use LaTeX to write scientific formulas.</b>  \n",
        "Refer this link to understand LaTeX format: https://towardsdatascience.com/write-markdown-latex-in-the-jupyter-notebook-10985edb91fd"
      ]
    },
    {
      "cell_type": "markdown",
      "metadata": {
        "id": "PxyIiGF4zIYR"
      },
      "source": [
        ""
      ]
    },
    {
      "cell_type": "code",
      "metadata": {
        "id": "tMQbBdJKqbGY"
      },
      "source": [
        "from scipy.stats import t"
      ],
      "execution_count": null,
      "outputs": []
    },
    {
      "cell_type": "code",
      "metadata": {
        "colab": {
          "base_uri": "https://localhost:8080/"
        },
        "id": "OW36aoxNqbGY",
        "outputId": "c2cbc17d-06cc-4ac7-d509-39879e20ec14"
      },
      "source": [
        "# One tail\n",
        "\n",
        "alpha = 1 - 0.95\n",
        "\n",
        "t_critical = t.ppf(1-alpha, df = 19)\n",
        "\n",
        "print(t_critical)"
      ],
      "execution_count": null,
      "outputs": [
        {
          "output_type": "stream",
          "text": [
            "1.729132811521367\n"
          ],
          "name": "stdout"
        }
      ]
    },
    {
      "cell_type": "code",
      "metadata": {
        "colab": {
          "base_uri": "https://localhost:8080/"
        },
        "id": "5uMMiEPJqbGZ",
        "outputId": "783e6d2a-76b6-4b6c-bc7c-4cf007a7afe5"
      },
      "source": [
        "# Two tail\n",
        "\n",
        "alpha = 1 - 0.95\n",
        "\n",
        "t_critical = t.ppf(1-alpha/2, df = 19)#/2 is because its a two tail test\n",
        "\n",
        "print(t_critical)"
      ],
      "execution_count": null,
      "outputs": [
        {
          "output_type": "stream",
          "text": [
            "2.093024054408263\n"
          ],
          "name": "stdout"
        }
      ]
    },
    {
      "cell_type": "code",
      "metadata": {
        "id": "GwWrK4fHsd4Q"
      },
      "source": [
        ""
      ],
      "execution_count": null,
      "outputs": []
    },
    {
      "cell_type": "markdown",
      "metadata": {
        "id": "WVwiHJE4soEF"
      },
      "source": [
        "<b>Q-1: Pista House selling Hyderabadi Chicken Dum biryani claims that each parcel packet has 500 grams of biryani (also mentioned on the label of packet). You are sceptic of their claims and believe that on average each packet does not contain 500 grams of biryani. How do you prove your claim? ~(Given that the population std is 50)~ </b>"
      ]
    },
    {
      "cell_type": "markdown",
      "metadata": {
        "id": "gJpHF0Khs0-a"
      },
      "source": [
        "Step - 1:  \n",
        "Alternate Hypothesis (Bold claim): $$ H_1:\\mu\\neq500 \\  $$\n",
        "Null Hypothesis (Status Quo): $$ H_0:\\mu\\ =500 \\  $$\n",
        "\n",
        "Step - 2:  \n",
        "* Collect a sample of size n = 10 $$ [490, 220, 470, 500, 495, 496, 496, 498, 508, 480] $$\n",
        "* Compute sample mean $$ \\bar{x} \\ = \\ 465.3 $$\n",
        "\n",
        "Step - 3:\n",
        "since $\\sigma$ is not given we go for the t-test\n",
        "\n",
        "\n",
        "Compute Test Statistic: $$ t = \\frac{\\bar{x} - \\mu}{s/\\sqrt[2]{n}}$$\n",
        "\n",
        "Step - 4:\n",
        "Decide $ \\alpha $ or significance level\n",
        "\n",
        "Step - 5.1: two tailed t-test($H_1$ have $\\neq$): $$  \\ if\\      |t| > t_{n-1,\\frac{\\alpha}{2}} \\Rightarrow Accept \\ H_1 \\ or \\ Reject \\ H_0 $$\n",
        "\n",
        "Step - 5.2: Compute p-value\n"
      ]
    },
    {
      "cell_type": "code",
      "metadata": {
        "id": "NI1e5wZMv3te"
      },
      "source": [
        "# to get the value if the s"
      ],
      "execution_count": null,
      "outputs": []
    },
    {
      "cell_type": "markdown",
      "metadata": {
        "id": "xPqU_YNOyXbg"
      },
      "source": [
        "$$s^2=\\sum_{i=0}^{n}\\,\\frac{(obs-\\mu)^2}{n-1}$$\n",
        "\n",
        "$$s=\\sqrt[]{s^2}$$"
      ]
    },
    {
      "cell_type": "code",
      "metadata": {
        "colab": {
          "base_uri": "https://localhost:8080/"
        },
        "id": "6_XolYyh0IdD",
        "outputId": "79bfc992-6c6f-4abc-a3ca-c5329da03408"
      },
      "source": [
        "l = [490, 220, 470, 500, 495, 496, 496, 498, 508, 480]\n",
        "\n",
        "sum(l)/len(l)"
      ],
      "execution_count": null,
      "outputs": [
        {
          "output_type": "execute_result",
          "data": {
            "text/plain": [
              "465.3"
            ]
          },
          "metadata": {
            "tags": []
          },
          "execution_count": 102
        }
      ]
    },
    {
      "cell_type": "code",
      "metadata": {
        "id": "ZHhQ_pQp0IZW"
      },
      "source": [
        "def s_std(a):\n",
        "  ll=a\n",
        "  n=len(ll)\n",
        "  mean=sum(ll)/n\n",
        "  sum1=0\n",
        "  for i in range(n):\n",
        "    sum1+=(ll[i]-mean)**2\n",
        "  ss=sum1/(n-1)\n",
        "  s=ss**0.5\n",
        "  return s"
      ],
      "execution_count": null,
      "outputs": []
    },
    {
      "cell_type": "code",
      "metadata": {
        "colab": {
          "base_uri": "https://localhost:8080/"
        },
        "id": "vjY7CQKpz6bn",
        "outputId": "65e2401a-6c73-4f23-88c2-6abb6171eb5f"
      },
      "source": [
        "s=s_std(l)\n",
        "print(s)"
      ],
      "execution_count": null,
      "outputs": [
        {
          "output_type": "stream",
          "text": [
            "86.84859110991827\n"
          ],
          "name": "stdout"
        }
      ]
    },
    {
      "cell_type": "code",
      "metadata": {
        "colab": {
          "base_uri": "https://localhost:8080/"
        },
        "id": "EUNiejTu3_9G",
        "outputId": "6a02a72d-8e80-4631-90a5-21a2fcb65995"
      },
      "source": [
        "# Two tail\n",
        "from scipy.stats import t\n",
        "\n",
        "\n",
        "alpha = 1 - 0.95\n",
        "#since the sample size is 10 df=9   -->(n-1)\n",
        "t_critical = t.ppf(1-alpha/2, df = 9)#/2 is because its a two tail test\n",
        "\n",
        "print(t_critical)"
      ],
      "execution_count": null,
      "outputs": [
        {
          "output_type": "stream",
          "text": [
            "2.2621571627409915\n"
          ],
          "name": "stdout"
        }
      ]
    },
    {
      "cell_type": "code",
      "metadata": {
        "id": "vFf7FnHc_Wpl"
      },
      "source": [
        "# Defining the sample and population parameters\n",
        "\n",
        "sample_size = 10\n",
        "sample_mean = 465.3\n",
        "pop_mean = 500\n",
        "sample_std = 86.84"
      ],
      "execution_count": null,
      "outputs": []
    },
    {
      "cell_type": "code",
      "metadata": {
        "id": "exAfaNHF-3W3"
      },
      "source": [
        "# t_score for sampling distributions\n",
        "\n",
        "def t_score(sample_size, sample_mean, pop_mean, pop_std):\n",
        "    numerator = sample_mean - pop_mean\n",
        "    denomenator = sample_std / sample_size**0.5\n",
        "    return numerator / denomenator"
      ],
      "execution_count": null,
      "outputs": []
    },
    {
      "cell_type": "code",
      "metadata": {
        "colab": {
          "base_uri": "https://localhost:8080/"
        },
        "id": "noa9jj5S_vYS",
        "outputId": "c1023c1a-d573-4c61-f9fc-f7e62f87589c"
      },
      "source": [
        "# Calculating the z-score\n",
        "\n",
        "t = t_score(sample_size, sample_mean, pop_mean, sample_std)\n",
        "\n",
        "print(t)"
      ],
      "execution_count": null,
      "outputs": [
        {
          "output_type": "stream",
          "text": [
            "-1.2636001244569637\n"
          ],
          "name": "stdout"
        }
      ]
    },
    {
      "cell_type": "code",
      "metadata": {
        "id": "bwcr8oMsAgW-"
      },
      "source": [
        "import matplotlib.pyplot as plt\n",
        "import numpy as np\n",
        "from scipy.stats import norm"
      ],
      "execution_count": null,
      "outputs": []
    },
    {
      "cell_type": "code",
      "metadata": {
        "colab": {
          "base_uri": "https://localhost:8080/",
          "height": 282
        },
        "id": "-xFG1V5A_4qj",
        "outputId": "bb213722-2f6a-46ae-d673-8bbd6fbed3e7"
      },
      "source": [
        "# Ploting the sampling distribution with rejection regions\n",
        "\n",
        "# Defining the x minimum and x maximum\n",
        "x_min = 400\n",
        "x_max = 600\n",
        "\n",
        "\n",
        "# Defining the sampling distribution mean and sampling distribution std\n",
        "mean = pop_mean\n",
        "std = sample_std / sample_size**0.5\n",
        "\n",
        "\n",
        "# Ploting the graph and setting the x limits\n",
        "x = np.linspace(x_min, x_max, 100)\n",
        "y = norm.pdf(x, mean, std)\n",
        "plt.xlim(x_min, x_max)\n",
        "plt.plot(x, y)\n",
        "# Computing the left and right critical values (Two tailed Test)\n",
        "t_critical_left = pop_mean + (-t_critical * std)\n",
        "t_critical_right = pop_mean + (t_critical * std)\n",
        "\n",
        "\n",
        "# Shading the left rejection region\n",
        "x1 = np.linspace(x_min, t_critical_left, 100)\n",
        "y1 = norm.pdf(x1, mean, std)\n",
        "plt.fill_between(x1, y1, color='orange')\n",
        "\n",
        "\n",
        "# Shading the right rejection region\n",
        "x2 = np.linspace(t_critical_right, x_max, 100)\n",
        "y2 = norm.pdf(x2, mean, std)\n",
        "plt.fill_between(x2, y2, color='orange')\n",
        "\n",
        "\n",
        "# Ploting the sample mean and concluding the results \n",
        "plt.scatter(sample_mean, 0)\n",
        "plt.annotate(\"x_bar\", (sample_mean, 0.0007))\n",
        "\n",
        "\n",
        "# In this case sample mean falls in the rejection region\n",
        "# i.e. here we reject the Null Hypothesis"
      ],
      "execution_count": null,
      "outputs": [
        {
          "output_type": "execute_result",
          "data": {
            "text/plain": [
              "Text(465.3, 0.0007, 'x_bar')"
            ]
          },
          "metadata": {
            "tags": []
          },
          "execution_count": 110
        },
        {
          "output_type": "display_data",
          "data": {
            "image/png": "[encoded data removed]",
            "text/plain": [
              "<Figure size 432x288 with 1 Axes>"
            ]
          },
          "metadata": {
            "tags": [],
            "needs_background": "light"
          }
        }
      ]
    },
    {
      "cell_type": "code",
      "metadata": {
        "colab": {
          "base_uri": "https://localhost:8080/"
        },
        "id": "PnE6PRW7AelW",
        "outputId": "dafd5753-6687-4639-81c4-dd84124edb68"
      },
      "source": [
        "# Conclusion using t test\n",
        "\n",
        "if(np.abs(t) > t_critical):\n",
        "    print(\"Reject Null Hypothesis\")\n",
        "else:\n",
        "    print(\"Fail to reject Null Hypothesis\")"
      ],
      "execution_count": null,
      "outputs": [
        {
          "output_type": "stream",
          "text": [
            "Fail to reject Null Hypothesis\n"
          ],
          "name": "stdout"
        }
      ]
    },
    {
      "cell_type": "code",
      "metadata": {
        "colab": {
          "base_uri": "https://localhost:8080/"
        },
        "id": "k1E19VqNApYN",
        "outputId": "ce67b8f3-8649-46e6-c78e-195a5769da42"
      },
      "source": [
        "# Conclusion using p test for twotailed test\n",
        "\n",
        "p_value = 2 * (1.0 - norm.cdf(np.abs(t)))\n",
        "\n",
        "print(\"p_value = \", p_value)\n",
        "\n",
        "if(p_value < alpha):\n",
        "    print(\"Reject Null Hypothesis\")\n",
        "else:\n",
        "    print(\"Fail to reject Null Hypothesis\")"
      ],
      "execution_count": null,
      "outputs": [
        {
          "output_type": "stream",
          "text": [
            "p_value =  0.20637358891012125\n",
            "Fail to reject Null Hypothesis\n"
          ],
          "name": "stdout"
        }
      ]
    },
    {
      "cell_type": "code",
      "metadata": {
        "id": "EMr_6iuIAwVI"
      },
      "source": [
        ""
      ],
      "execution_count": null,
      "outputs": []
    },
    {
      "cell_type": "markdown",
      "metadata": {
        "id": "0C5SXKPOBYLz"
      },
      "source": [
        "<b>Q-2: You have developed a new Natural Language Processing Algorithms and done a user study. You claim that the average rating given by the users is greater than 4 on a scale of 1 to 5. How do you prove this to your client? ~(Given that the population std is 0.5)~ </b>"
      ]
    },
    {
      "cell_type": "markdown",
      "metadata": {
        "id": "MVylWxwjBy7-"
      },
      "source": [
        "\n",
        "Step - 1:  \n",
        "Alternate Hypothesis (Bold Claim): $$ H_1: \\mu>4\\  $$\n",
        "Null Hypothesis (Status Quo): $$ H_0: \\mu<=4\\  $$ \n",
        "\n",
        "Step - 2:  \n",
        "* Collect a sample of size n = 10 $$ [4, 3, 5, 4, 5, 3, 5, 5, 4, 2, 4, 5, 5, 4, 4, 5, 4, 5, 4, 5] $$\n",
        "* Compute sample mean $$ \\bar{x} \\ = \\ 2.5 $$\n",
        "\n",
        "Step - 3:\n",
        "Compute Test Statistic: $$ t = \\frac{\\bar{x} - \\mu}{s/\\sqrt[2]{n}}$$\n",
        "\n",
        "\n",
        "\n",
        "$s^2=\\sum_{i=0}^{n}\\,\\frac{(obs-\\mu)^2}{n-1}$\n",
        "\n",
        "$$s=\\sqrt[]{s^2}$$\n",
        "\n",
        "Step - 4:\n",
        "Decide $ \\alpha $\n",
        "\n",
        "Step - 5.1: right tailed t-test: $$ \\ if\\   t > t_{n-1,\\alpha} \\Rightarrow Accept \\ H_1 \\ or \\ Reject \\ H_0 $$\n",
        "\n",
        "Step - 5.2: Compute p-value"
      ]
    },
    {
      "cell_type": "code",
      "metadata": {
        "id": "dCme-MCLBaWF"
      },
      "source": [
        ""
      ],
      "execution_count": null,
      "outputs": []
    },
    {
      "cell_type": "code",
      "metadata": {
        "colab": {
          "base_uri": "https://localhost:8080/"
        },
        "id": "Xt1yQUIWCktj",
        "outputId": "cefe07d9-87c4-460a-8bf0-10213cdda88d"
      },
      "source": [
        "# One tail\n",
        "from scipy.stats import t\n",
        "critical=0.95\n",
        "alpha = 1 - critical\n",
        "\n",
        "t_critical = t.ppf(1-alpha, df = 9)\n",
        "\n",
        "print(t_critical)"
      ],
      "execution_count": null,
      "outputs": [
        {
          "output_type": "stream",
          "text": [
            "1.8331129326536335\n"
          ],
          "name": "stdout"
        }
      ]
    },
    {
      "cell_type": "markdown",
      "metadata": {
        "id": "DbgzM64aFCwa"
      },
      "source": [
        "$$s^2=\\sum_{i=0}^{n}\\,\\frac{(obs-\\mu)^2}{n-1}$$\n",
        "\n",
        "$$s=\\sqrt[]{s^2}$$"
      ]
    },
    {
      "cell_type": "code",
      "metadata": {
        "id": "4uQ9zPFDE9WU"
      },
      "source": [
        ""
      ],
      "execution_count": null,
      "outputs": []
    },
    {
      "cell_type": "code",
      "metadata": {
        "id": "i5luHD8rDekt"
      },
      "source": [
        "def s_std(a):\n",
        "  ll=a\n",
        "  n=len(ll)\n",
        "  mean=sum(ll)/n\n",
        "  sum1=0\n",
        "  for i in range(n):\n",
        "    sum1+=(ll[i]-mean)**2\n",
        "  ss=sum1/(n-1)\n",
        "  s=ss**0.5\n",
        "  return s"
      ],
      "execution_count": null,
      "outputs": []
    },
    {
      "cell_type": "code",
      "metadata": {
        "colab": {
          "base_uri": "https://localhost:8080/"
        },
        "id": "x1t21xvFEK4R",
        "outputId": "6b7c90b5-cb6b-4e07-fc49-4834871d3e28"
      },
      "source": [
        "l=[4, 3, 5, 4, 5, 3, 5, 5, 4, 2, 4, 5, 5, 4, 4, 5, 4, 5, 4, 5]\n",
        "sum(l)/len(l)"
      ],
      "execution_count": null,
      "outputs": [
        {
          "output_type": "execute_result",
          "data": {
            "text/plain": [
              "4.25"
            ]
          },
          "metadata": {
            "tags": []
          },
          "execution_count": 115
        }
      ]
    },
    {
      "cell_type": "code",
      "metadata": {
        "colab": {
          "base_uri": "https://localhost:8080/"
        },
        "id": "TJsAKytHEylj",
        "outputId": "d366bde9-87cb-4db8-8bff-861171db5592"
      },
      "source": [
        "s=s_std(l)\n",
        "print(s)"
      ],
      "execution_count": null,
      "outputs": [
        {
          "output_type": "stream",
          "text": [
            "0.8506963092234007\n"
          ],
          "name": "stdout"
        }
      ]
    },
    {
      "cell_type": "code",
      "metadata": {
        "id": "aO_T181dEcPs"
      },
      "source": [
        "# Defining the sample and population parameters\n",
        "\n",
        "sample_size = 20\n",
        "sample_mean = 4.25\n",
        "pop_mean = 4\n",
        "sample_std = 0.8"
      ],
      "execution_count": null,
      "outputs": []
    },
    {
      "cell_type": "code",
      "metadata": {
        "colab": {
          "base_uri": "https://localhost:8080/"
        },
        "id": "q0OXhkGhFQpL",
        "outputId": "f3937910-8607-4605-d386-bcd62a2f8d9c"
      },
      "source": [
        "t = t_score(sample_size, sample_mean, pop_mean, sample_std)\n",
        "\n",
        "print(t)"
      ],
      "execution_count": null,
      "outputs": [
        {
          "output_type": "stream",
          "text": [
            "1.3975424859373686\n"
          ],
          "name": "stdout"
        }
      ]
    },
    {
      "cell_type": "code",
      "metadata": {
        "colab": {
          "base_uri": "https://localhost:8080/",
          "height": 282
        },
        "id": "iWRT1pSJFXp6",
        "outputId": "854dcfdc-02b1-4038-dae0-de213666d852"
      },
      "source": [
        "# Ploting the sampling distribution with rejection regions\n",
        "\n",
        "# Defining the x minimum and x maximum\n",
        "x_min = 3.5\n",
        "x_max = 4.5\n",
        "\n",
        "\n",
        "# Defining the sampling distribution mean and sampling distribution std\n",
        "mean = pop_mean\n",
        "std = sample_std / sample_size**0.5\n",
        "\n",
        "\n",
        "# Ploting the graph and setting the x limits\n",
        "x = np.linspace(x_min, x_max, 100)\n",
        "y = norm.pdf(x, mean, std)\n",
        "plt.xlim(x_min, x_max)\n",
        "plt.plot(x, y)\n",
        "# Computing the left and right critical values (Two tailed Test)\n",
        "t_critical_left = pop_mean + (-t_critical * std)\n",
        "t_critical_right = pop_mean + (t_critical * std)\n",
        "\n",
        "\n",
        "# Shading the left rejection region\n",
        "x1 = np.linspace(x_min, t_critical_left, 100)\n",
        "y1 = norm.pdf(x1, mean, std)\n",
        "plt.fill_between(x1, y1, color='orange')\n",
        "\n",
        "\n",
        "# Shading the right rejection region\n",
        "x2 = np.linspace(t_critical_right, x_max, 100)\n",
        "y2 = norm.pdf(x2, mean, std)\n",
        "plt.fill_between(x2, y2, color='orange')\n",
        "\n",
        "\n",
        "# Ploting the sample mean and concluding the results \n",
        "plt.scatter(sample_mean, 0)\n",
        "plt.annotate(\"x_bar\", (sample_mean, 0.0007))\n",
        "\n",
        "\n",
        "# In this case sample mean falls in the rejection region\n",
        "# i.e. here we reject the Null Hypothesis"
      ],
      "execution_count": null,
      "outputs": [
        {
          "output_type": "execute_result",
          "data": {
            "text/plain": [
              "Text(4.25, 0.0007, 'x_bar')"
            ]
          },
          "metadata": {
            "tags": []
          },
          "execution_count": 119
        },
        {
          "output_type": "display_data",
          "data": {
            "image/png": "[encoded data removed]",
            "text/plain": [
              "<Figure size 432x288 with 1 Axes>"
            ]
          },
          "metadata": {
            "tags": [],
            "needs_background": "light"
          }
        }
      ]
    },
    {
      "cell_type": "code",
      "metadata": {
        "colab": {
          "base_uri": "https://localhost:8080/"
        },
        "id": "KmnRF3J0Fq-W",
        "outputId": "b2fef723-08b9-4c27-8597-093971200734"
      },
      "source": [
        "if(t > t_critical):\n",
        "    print(\"Reject Null Hypothesis\")\n",
        "else:\n",
        "    print(\"Fail to reject Null Hypothesis\")"
      ],
      "execution_count": null,
      "outputs": [
        {
          "output_type": "stream",
          "text": [
            "Fail to reject Null Hypothesis\n"
          ],
          "name": "stdout"
        }
      ]
    },
    {
      "cell_type": "code",
      "metadata": {
        "colab": {
          "base_uri": "https://localhost:8080/"
        },
        "id": "L-AFTFLkFw7W",
        "outputId": "c8f7db31-e1d4-46d1-beb8-b32459b92a21"
      },
      "source": [
        "# Conclusion using p test for singletailed test\n",
        "\n",
        "p_value = 1.0 - norm.cdf(np.abs(t))\n",
        "\n",
        "print(\"p_value = \", p_value)\n",
        "\n",
        "if(p_value < alpha):\n",
        "    print(\"Reject Null Hypothesis\")\n",
        "else:\n",
        "    print(\"Fail to reject Null Hypothesis\")"
      ],
      "execution_count": null,
      "outputs": [
        {
          "output_type": "stream",
          "text": [
            "p_value =  0.08112524992361592\n",
            "Fail to reject Null Hypothesis\n"
          ],
          "name": "stdout"
        }
      ]
    },
    {
      "cell_type": "code",
      "metadata": {
        "id": "uMet8l_SGS9-"
      },
      "source": [
        ""
      ],
      "execution_count": null,
      "outputs": []
    },
    {
      "cell_type": "markdown",
      "metadata": {
        "id": "YVj7eiIUHsJe"
      },
      "source": [
        "<b>Q-3: TATA has developed a better fuel management system for the SUV segment. They claim that with this system, on average the SUV's mileage is at least 15 km/litre? (Given that the population std is 1)</b>\n",
        "\n",
        "Step - 1:  \n",
        "Alternate Hypothesis (Bold Claim): $$ H_1:\\mu>=15 \\  $$\n",
        "Null Hypothesis (Status Quo): $$ H_0:\\mu<15 \\  $$\n",
        "\n",
        "but according to the rules \n",
        "\n",
        "\n",
        "\n",
        "Alternate Hypothesis (Bold Claim): $$ H_1:\\mu>15 \\  $$\n",
        "Null Hypothesis (Status Quo): $$ H_0:\\mu<=15 \\  $$\n",
        "\n",
        "Step - 2:  \n",
        "* Collect a sample of size n = 10 $$ [14.08, 14.13, 15.65, 13.78, 16.26, 14.97, 15.36, 15.81, 14.53, 16.79, 15.78, 16.98, 13.23, 15.43, 15.46, 13.88, 14.31, 14.41, 15.76, 15.38] $$\n",
        "* Compute sample mean $$ \\bar{x} \\ = \\ 15.09 $$\n",
        "\n",
        "Step - 3:\n",
        "Compute Test Statistic: $$ t = \\frac{\\bar{x} - \\mu}{s/\\sqrt[2]{n}}$$\n",
        "\n",
        "$s^2=\\sum_{i=0}^{n}\\,\\frac{(obs-\\mu)^2}{n-1}$\n",
        "\n",
        "$$s=\\sqrt[]{s^2}$$\n",
        "\n",
        "Step - 4:\n",
        "Decide $ \\alpha $\n",
        "\n",
        "Step - 5.1: right tailed t-test: $$  \\ if\\ t > t_{n-1,\\alpha} \\Rightarrow Accept \\ H_1 \\ or \\ Reject \\ H_0  $$\n",
        "\n",
        "Step - 5.2: Compute p-value"
      ]
    },
    {
      "cell_type": "code",
      "metadata": {
        "colab": {
          "base_uri": "https://localhost:8080/"
        },
        "id": "8n6l1xlLK_MP",
        "outputId": "0a40ab80-84f5-4a29-c7e8-f73ece68d9ac"
      },
      "source": [
        "# One tail\n",
        "from scipy.stats import t\n",
        "critical=0.95\n",
        "alpha = 1 - critical\n",
        "\n",
        "t_critical = t.ppf(1-alpha, df = 9)\n",
        "\n",
        "print(t_critical)"
      ],
      "execution_count": null,
      "outputs": [
        {
          "output_type": "stream",
          "text": [
            "1.8331129326536335\n"
          ],
          "name": "stdout"
        }
      ]
    },
    {
      "cell_type": "code",
      "metadata": {
        "id": "wwQEcsrHICp7"
      },
      "source": [
        "def s_std(a):\n",
        "  ll=a\n",
        "  n=len(ll)\n",
        "  mean=sum(ll)/n\n",
        "  sum1=0\n",
        "  for i in range(n):\n",
        "    sum1+=(ll[i]-mean)**2\n",
        "  ss=sum1/(n-1)\n",
        "  s=ss**0.5\n",
        "  return s"
      ],
      "execution_count": null,
      "outputs": []
    },
    {
      "cell_type": "code",
      "metadata": {
        "id": "96ssH7QQIzMS"
      },
      "source": [
        ""
      ],
      "execution_count": null,
      "outputs": []
    },
    {
      "cell_type": "code",
      "metadata": {
        "colab": {
          "base_uri": "https://localhost:8080/"
        },
        "id": "nyuZVG-JIhCx",
        "outputId": "34ac7f7e-52b7-4f7a-95f8-b4e602e859f5"
      },
      "source": [
        "l=[14.08, 14.13, 15.65, 13.78, 16.26, 14.97, 15.36, 15.81, 14.53, 16.79, 15.78, 16.98, 13.23, 15.43, 15.46, 13.88, 14.31, 14.41, 15.76, 15.38]\n",
        "sum(l)/len(l)"
      ],
      "execution_count": null,
      "outputs": [
        {
          "output_type": "execute_result",
          "data": {
            "text/plain": [
              "15.098999999999998"
            ]
          },
          "metadata": {
            "tags": []
          },
          "execution_count": 124
        }
      ]
    },
    {
      "cell_type": "code",
      "metadata": {
        "colab": {
          "base_uri": "https://localhost:8080/"
        },
        "id": "YMTC9TmkI4lP",
        "outputId": "b6efe4de-6297-4819-8a5b-e4ad4de633db"
      },
      "source": [
        "s=s_std(l)\n",
        "print(s)"
      ],
      "execution_count": null,
      "outputs": [
        {
          "output_type": "stream",
          "text": [
            "1.0253671999517255\n"
          ],
          "name": "stdout"
        }
      ]
    },
    {
      "cell_type": "code",
      "metadata": {
        "id": "cPSfW8wgInZF"
      },
      "source": [
        "# Defining the sample and population parameters\n",
        "\n",
        "sample_size = 20\n",
        "sample_mean = 15\n",
        "pop_mean = 15\n",
        "sample_std = 1.02"
      ],
      "execution_count": null,
      "outputs": []
    },
    {
      "cell_type": "code",
      "metadata": {
        "id": "Iv3Jav6pJOj0"
      },
      "source": [
        "t = t_score(sample_size, sample_mean, pop_mean, sample_std)"
      ],
      "execution_count": null,
      "outputs": []
    },
    {
      "cell_type": "code",
      "metadata": {
        "colab": {
          "base_uri": "https://localhost:8080/"
        },
        "id": "FexeEdLVJlKJ",
        "outputId": "fce8de7e-3cb0-4342-d6ab-f8b1eaac0c95"
      },
      "source": [
        "print(t)"
      ],
      "execution_count": null,
      "outputs": [
        {
          "output_type": "stream",
          "text": [
            "0.0\n"
          ],
          "name": "stdout"
        }
      ]
    },
    {
      "cell_type": "code",
      "metadata": {
        "colab": {
          "base_uri": "https://localhost:8080/",
          "height": 282
        },
        "id": "AMZV8bBpJtKz",
        "outputId": "a1fd1ff6-52cf-42b5-a159-6669d9788336"
      },
      "source": [
        "x_min = 13\n",
        "x_max = 17\n",
        "\n",
        "mean = pop_mean\n",
        "std = sample_std / (sample_size**0.5)\n",
        "\n",
        "x = np.linspace(x_min, x_max, 100)\n",
        "y = norm.pdf(x, mean, std)\n",
        "\n",
        "plt.xlim(x_min, x_max)\n",
        "# plt.ylim(0, 0.03)\n",
        "\n",
        "plt.plot(x, y)\n",
        "\n",
        "t_critical_right = pop_mean + (t_critical * std)\n",
        "\n",
        "x1 = np.linspace(t_critical_right, x_max, 100)\n",
        "y1 = norm.pdf(x1, mean, std)\n",
        "plt.fill_between(x1, y1, color='orange')\n",
        "\n",
        "plt.scatter(sample_mean, 0)\n",
        "plt.annotate(\"x_bar\", (sample_mean, 0.1))\n",
        "\n",
        "# In this case sample mean falls in the acceptance region\n",
        "# i.e. Fail to Reject the Null Hypothesis"
      ],
      "execution_count": null,
      "outputs": [
        {
          "output_type": "execute_result",
          "data": {
            "text/plain": [
              "Text(15, 0.1, 'x_bar')"
            ]
          },
          "metadata": {
            "tags": []
          },
          "execution_count": 129
        },
        {
          "output_type": "display_data",
          "data": {
            "image/png": "[encoded data removed]",
            "text/plain": [
              "<Figure size 432x288 with 1 Axes>"
            ]
          },
          "metadata": {
            "tags": [],
            "needs_background": "light"
          }
        }
      ]
    },
    {
      "cell_type": "code",
      "metadata": {
        "colab": {
          "base_uri": "https://localhost:8080/"
        },
        "id": "73_sDRpnKAeE",
        "outputId": "f8225884-0273-49a6-8a7d-995e028e46bd"
      },
      "source": [
        "# Conclusion using t test\n",
        "if(t > t_critical):\n",
        "    print(\"Reject Null Hypothesis\")\n",
        "else:\n",
        "    print(\"Fail to reject Null Hypothesis\")"
      ],
      "execution_count": null,
      "outputs": [
        {
          "output_type": "stream",
          "text": [
            "Fail to reject Null Hypothesis\n"
          ],
          "name": "stdout"
        }
      ]
    },
    {
      "cell_type": "code",
      "metadata": {
        "colab": {
          "base_uri": "https://localhost:8080/"
        },
        "id": "nD_VyzcrKFrK",
        "outputId": "ce0ed12e-5310-4b1b-c4a4-5e136cd53aaa"
      },
      "source": [
        "# Conclusion using p test for singletailed test\n",
        "p_value = 1.0 - norm.cdf(np.abs(t))\n",
        "\n",
        "print(\"p_value = \", p_value)\n",
        "\n",
        "if(p_value < alpha):\n",
        "    print(\"Reject Null Hypothesis\")\n",
        "else:\n",
        "    print(\"Fail to reject Null Hypothesis\")"
      ],
      "execution_count": null,
      "outputs": [
        {
          "output_type": "stream",
          "text": [
            "p_value =  0.5\n",
            "Fail to reject Null Hypothesis\n"
          ],
          "name": "stdout"
        }
      ]
    },
    {
      "cell_type": "markdown",
      "metadata": {
        "id": "k5xKxQ24KT20"
      },
      "source": [
        "<b>Q-4: You have developed a new Machine Learning Application and claim that on average it takes less than 100 ms to predict for any future datapoint. How do you convince your client about this claim? (Based on past data you know that the std is 10 ms)</b>\n",
        "\n",
        "Step - 1:  \n",
        "Alternate Hypothesis (Bold Claim): $$ H_1:\\mu<100 \\ $$\n",
        "Null Hypothesis (Status Quo): $$ H_0:\\mu>=100 \\  $$\n",
        "\n",
        "Step - 2:  \n",
        "* Collect a sample of size n = 100\n",
        "* Compute sample mean $$ \\bar{x} \\ = \\ 97.5 $$\n",
        "\n",
        "Step - 3:\n",
        "Compute Test Statistic: $$ t = \\frac{\\bar{x} - \\mu}{s/\\sqrt[2]{n}}$$\n",
        "\n",
        "Step - 4:\n",
        "Decide $ \\alpha $\n",
        "\n",
        "Step - 5.1: one tailed t-test: $$ reject \\ H_0 \\ if \\ ? $$\n",
        "\n",
        "Step - 5.2: Compute p-value"
      ]
    },
    {
      "cell_type": "code",
      "metadata": {
        "colab": {
          "base_uri": "https://localhost:8080/"
        },
        "id": "_EswXQrtKVly",
        "outputId": "3212ce60-eb57-4a34-d2db-3626101672fc"
      },
      "source": [
        "# One tail\n",
        "from scipy.stats import t\n",
        "critical=0.95\n",
        "alpha = 1 - critical\n",
        "\n",
        "t_critical = t.ppf(1-alpha, df = 99)\n",
        "\n",
        "print(t_critical)"
      ],
      "execution_count": null,
      "outputs": [
        {
          "output_type": "stream",
          "text": [
            "1.6603911559963895\n"
          ],
          "name": "stdout"
        }
      ]
    },
    {
      "cell_type": "code",
      "metadata": {
        "id": "2niAkQeCKI7J"
      },
      "source": [
        "# t_score for sampling distributions\n",
        "\n",
        "def t_score(sample_size, sample_mean, pop_mean, pop_std):\n",
        "    numerator = sample_mean - pop_mean\n",
        "    denomenator = sample_std / sample_size**0.5\n",
        "    return numerator / denomenator"
      ],
      "execution_count": null,
      "outputs": []
    },
    {
      "cell_type": "code",
      "metadata": {
        "id": "sVqDr3g6LtvW"
      },
      "source": [
        "sample_size = 100\n",
        "sample_mean = 97.5\n",
        "pop_mean = 100\n",
        "sample_std = 7"
      ],
      "execution_count": null,
      "outputs": []
    },
    {
      "cell_type": "code",
      "metadata": {
        "id": "k0nWhUbAq9Wa"
      },
      "source": [
        "t = t_score(sample_size, sample_mean, pop_mean, sample_std)"
      ],
      "execution_count": null,
      "outputs": []
    },
    {
      "cell_type": "code",
      "metadata": {
        "colab": {
          "base_uri": "https://localhost:8080/"
        },
        "id": "Gai54N5grMUx",
        "outputId": "6d54c747-0480-499a-bd98-61399f96a856"
      },
      "source": [
        "print(t)"
      ],
      "execution_count": null,
      "outputs": [
        {
          "output_type": "stream",
          "text": [
            "-3.5714285714285716\n"
          ],
          "name": "stdout"
        }
      ]
    },
    {
      "cell_type": "code",
      "metadata": {
        "colab": {
          "base_uri": "https://localhost:8080/",
          "height": 282
        },
        "id": "GcOEeTkqrRFo",
        "outputId": "ddd293c5-ce1b-4efa-ef67-94fd19dd7f2c"
      },
      "source": [
        "x_min = 95\n",
        "x_max = 105\n",
        "\n",
        "mean = pop_mean\n",
        "std = sample_std / (sample_size**0.5)\n",
        "\n",
        "x = np.linspace(x_min, x_max, 100)\n",
        "y = norm.pdf(x, mean, std)\n",
        "\n",
        "plt.xlim(x_min, x_max)\n",
        "# plt.ylim(0, 0.03)\n",
        "\n",
        "plt.plot(x, y)\n",
        "\n",
        "z_critical_left = pop_mean + (-z_critical * std)\n",
        "\n",
        "x1 = np.linspace(x_min, z_critical_left, 100)\n",
        "y1 = norm.pdf(x1, mean, std)\n",
        "plt.fill_between(x1, y1, color='orange')\n",
        "\n",
        "plt.scatter(sample_mean, 0)\n",
        "plt.annotate(\"x_bar\", (sample_mean, 0.02))\n",
        "\n",
        "# In this case sample mean falls in the rejection region\n",
        "\n",
        "# i.e. Reject Null Hypothesis"
      ],
      "execution_count": null,
      "outputs": [
        {
          "output_type": "execute_result",
          "data": {
            "text/plain": [
              "Text(97.5, 0.02, 'x_bar')"
            ]
          },
          "metadata": {
            "tags": []
          },
          "execution_count": 137
        },
        {
          "output_type": "display_data",
          "data": {
            "image/png": "[encoded data removed]",
            "text/plain": [
              "<Figure size 432x288 with 1 Axes>"
            ]
          },
          "metadata": {
            "tags": [],
            "needs_background": "light"
          }
        }
      ]
    },
    {
      "cell_type": "code",
      "metadata": {
        "colab": {
          "base_uri": "https://localhost:8080/"
        },
        "id": "jIjW2I-erncA",
        "outputId": "d25f1798-c6f7-4e6f-cbfd-6e9f7aad0ede"
      },
      "source": [
        "# Conclusion using t test\n",
        "if(t > t_critical):\n",
        "    print(\"Reject Null Hypothesis\")\n",
        "else:\n",
        "    print(\"Fail to reject Null Hypothesis\")"
      ],
      "execution_count": null,
      "outputs": [
        {
          "output_type": "stream",
          "text": [
            "Fail to reject Null Hypothesis\n"
          ],
          "name": "stdout"
        }
      ]
    },
    {
      "cell_type": "code",
      "metadata": {
        "colab": {
          "base_uri": "https://localhost:8080/"
        },
        "id": "K2MscZE1ruzq",
        "outputId": "c8335d74-3dc3-41c1-b244-7547dba9ef42"
      },
      "source": [
        "# Conclusion using p test for singletailed test\n",
        "p_value = 1.0 - norm.cdf(np.abs(t))\n",
        "\n",
        "print(\"p_value = \", p_value)\n",
        "\n",
        "if(p_value < alpha):\n",
        "    print(\"Reject Null Hypothesis\")\n",
        "else:\n",
        "    print(\"Fail to reject Null Hypothesis\")"
      ],
      "execution_count": null,
      "outputs": [
        {
          "output_type": "stream",
          "text": [
            "p_value =  0.00017751969037349546\n",
            "Reject Null Hypothesis\n"
          ],
          "name": "stdout"
        }
      ]
    }
  ]
}