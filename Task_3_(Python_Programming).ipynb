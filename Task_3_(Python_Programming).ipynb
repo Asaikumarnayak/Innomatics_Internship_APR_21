{
  "nbformat": 4,
  "nbformat_minor": 0,
  "metadata": {
    "colab": {
      "name": "Task - 3 (Python Programming).ipynb",
      "provenance": [],
      "collapsed_sections": []
    },
    "kernelspec": {
      "name": "python3",
      "display_name": "Python 3"
    },
    "language_info": {
      "name": "python"
    }
  },
  "cells": [
    {
      "cell_type": "code",
      "metadata": {
        "id": "fVY3A9Twe6Tr"
      },
      "source": [
        "#question 1 polar coordinates\n",
        "# Enter your code here. Read input from STDIN. Print output to STDOUT\n",
        "import cmath\n",
        "z= complex(input())\n",
        "\n",
        "print(cmath.polar(z)[0])\n",
        "print(cmath.polar(z)[1])"
      ],
      "execution_count": null,
      "outputs": []
    },
    {
      "cell_type": "code",
      "metadata": {
        "id": "2llvz4H63HjV"
      },
      "source": [
        "#question 2 find angle mcb\n",
        "import math\n",
        "AB,BC=int(input()),int(input())\n",
        "hypot=math.hypot(AB,BC)                      #to calculate hypot\n",
        "angle=round(math.degrees(math.acos(BC/hypot))) #to calculate required angle \n",
        "degree=chr(176)                                #for degree symbol\n",
        "print(angle,degree,sep='')\n"
      ],
      "execution_count": null,
      "outputs": []
    },
    {
      "cell_type": "code",
      "metadata": {
        "id": "iBzQh6elfNx8"
      },
      "source": [
        "#question 3 triangle quest 2\n",
        "\n",
        "for i in range(1,int(input())+1): #More than 2 lines will result in 0 score. Do not leave a blank line also #(10^i-1)/9=1,11,111\n",
        "      print(int((((10**i)-1)/9)**2))#1*1=1  11*11=121  111*111=12321\n",
        "    \n",
        "\n"
      ],
      "execution_count": null,
      "outputs": []
    },
    {
      "cell_type": "code",
      "metadata": {
        "id": "HN-DDheU5oQC"
      },
      "source": [
        "#question 4 mod divmod\n",
        "# Enter your code here. Read input from STDIN. Print output to STDOUT\n",
        "a=int(input())\n",
        "b=int(input())\n",
        "\n",
        "print(a//b)\n",
        "print(a%b)\n",
        "print(divmod(a,b))\n"
      ],
      "execution_count": null,
      "outputs": []
    },
    {
      "cell_type": "code",
      "metadata": {
        "id": "0Sq3775e5-VB"
      },
      "source": [
        "#question 5  power modpower\n",
        "# Enter your code here. Read input from STDIN. Print output to STDOUT\n",
        "n=int(input())\n",
        "m=int(input())\n",
        "o=int(input())\n",
        "print(pow(n,m))\n",
        "print(pow(n,m,o))\n"
      ],
      "execution_count": null,
      "outputs": []
    },
    {
      "cell_type": "code",
      "metadata": {
        "id": "yEKXh3dJ6OB3"
      },
      "source": [
        "#question 6 integers come in all sizes\n",
        "# Enter your code here. Read input from STDIN. Print output to STDOUT\n",
        "a=int(input())\n",
        "b=int(input())\n",
        "c=int(input())\n",
        "d=int(input())\n",
        "print(pow(a,b)+pow(c,d))\n"
      ],
      "execution_count": null,
      "outputs": []
    },
    {
      "cell_type": "code",
      "metadata": {
        "id": "nS67Mssj6Zrq"
      },
      "source": [
        "#question 7 triangle quest\n",
        "for i in range(1,int(input())): #More than 2 lines will result in 0 score. Do not leave a blank line also\n",
        "    print((pow(10,i)//9)*i)\n"
      ],
      "execution_count": null,
      "outputs": []
    }
  ]
}